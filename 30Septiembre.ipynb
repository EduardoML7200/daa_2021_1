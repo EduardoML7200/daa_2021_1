{
  "nbformat": 4,
  "nbformat_minor": 0,
  "metadata": {
    "colab": {
      "name": "30Septiembre.ipynb",
      "provenance": [],
      "authorship_tag": "ABX9TyOskUDfEvDB00UZVrKfM2ZL",
      "include_colab_link": true
    },
    "kernelspec": {
      "name": "python3",
      "display_name": "Python 3"
    }
  },
  "cells": [
    {
      "cell_type": "markdown",
      "metadata": {
        "id": "view-in-github",
        "colab_type": "text"
      },
      "source": [
        "<a href=\"https://colab.research.google.com/github/EduardoML7200/daa_2021_1/blob/master/30Septiembre.ipynb\" target=\"_parent\"><img src=\"https://colab.research.google.com/assets/colab-badge.svg\" alt=\"Open In Colab\"/></a>"
      ]
    },
    {
      "cell_type": "markdown",
      "metadata": {
        "id": "jOeUEaJmPdnV"
      },
      "source": [
        "# Palíndromos\n",
        "Es una palabra que se lee, de igual forma de un sentido y de sentido inverso, ejemplo:\n",
        "1. sugus\n",
        "2. oso\n",
        "3. reconocer\n",
        "\n",
        "### Planteamiento del problema:\n",
        "Se desea encontrar todos los palindromos que existen en la franja horaria de un dia completo, tomando como horario inicial las 00:00 y como horario final las 23:59 horas.\n",
        "El algotirmo debe mostrar en pantalla todos los palindromos existentes en ese rango, al final debe mostrar el conteo de total de palindromos existentes.\n"
      ]
    },
    {
      "cell_type": "code",
      "metadata": {
        "id": "mrwd1h0DQIfn",
        "outputId": "ab5a86be-807c-4e7d-dbc4-7ecde93512a2",
        "colab": {
          "base_uri": "https://localhost:8080/",
          "height": 442
        }
      },
      "source": [
        "print(\"Palindromos zona horaria\")\n",
        "horas = \"00\"\n",
        "minutos = \"00\"\n",
        "for i in range (0 , 24):\n",
        "  if horas == minutos:\n",
        "    print(horas + \":\" + minutos[::-1])\n",
        "    horas = int(horas) + 1\n",
        "    horas = str(horas)\n",
        "    minutos = int(minutos) + 1\n",
        "    minutos = str(minutos)\n",
        "  else:\n",
        "    horas = int(horas) + 1\n",
        "    horas = str(horas)\n",
        "    minutos = int(minutos) + 1\n",
        "    minutos = str(minutos)\n",
        "\n"
      ],
      "execution_count": 6,
      "outputs": [
        {
          "output_type": "stream",
          "text": [
            "Palindromos zona horaria\n",
            "00:00\n",
            "1:1\n",
            "2:2\n",
            "3:3\n",
            "4:4\n",
            "5:5\n",
            "6:6\n",
            "7:7\n",
            "8:8\n",
            "9:9\n",
            "10:01\n",
            "11:11\n",
            "12:21\n",
            "13:31\n",
            "14:41\n",
            "15:51\n",
            "16:61\n",
            "17:71\n",
            "18:81\n",
            "19:91\n",
            "20:02\n",
            "21:12\n",
            "22:22\n",
            "23:32\n"
          ],
          "name": "stdout"
        }
      ]
    }
  ]
}
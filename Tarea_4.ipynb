{
  "nbformat": 4,
  "nbformat_minor": 0,
  "metadata": {
    "colab": {
      "name": "Tarea 4.ipynb",
      "provenance": [],
      "authorship_tag": "ABX9TyPy75NIRG7aivwUjlyeVuQC",
      "include_colab_link": true
    },
    "kernelspec": {
      "name": "python3",
      "display_name": "Python 3"
    }
  },
  "cells": [
    {
      "cell_type": "markdown",
      "metadata": {
        "id": "view-in-github",
        "colab_type": "text"
      },
      "source": [
        "<a href=\"https://colab.research.google.com/github/EduardoML7200/daa_2021_1/blob/master/Tarea_4.ipynb\" target=\"_parent\"><img src=\"https://colab.research.google.com/assets/colab-badge.svg\" alt=\"Open In Colab\"/></a>"
      ]
    },
    {
      "cell_type": "code",
      "metadata": {
        "id": "gAw-AgQzfYTE",
        "outputId": "80f58d4a-026e-4256-92a3-edd579849f56",
        "colab": {
          "base_uri": "https://localhost:8080/",
          "height": 646
        }
      },
      "source": [
        "def ejemplo4( n ):\n",
        "  count = 0 \n",
        "  i = n \n",
        "  print(\"Nivel 1\")\n",
        "  while i >= 1:\n",
        "    count += 1\n",
        "    i = i//2\n",
        "    print(\"Nivel 2\")\n",
        "  basura = 3 + 2 \n",
        "  return count\n",
        "\n",
        "def main():\n",
        "\n",
        "  ejemplo4(10)\n",
        "  ejemplo4(20)\n",
        "  ejemplo4(1000)\n",
        "  ejemplo4(10000)\n",
        "\n",
        "main()"
      ],
      "execution_count": 3,
      "outputs": [
        {
          "output_type": "stream",
          "text": [
            "Nivel 1\n",
            "Nivel 2\n",
            "Nivel 2\n",
            "Nivel 2\n",
            "Nivel 2\n",
            "Nivel 1\n",
            "Nivel 2\n",
            "Nivel 2\n",
            "Nivel 2\n",
            "Nivel 2\n",
            "Nivel 2\n",
            "Nivel 1\n",
            "Nivel 2\n",
            "Nivel 2\n",
            "Nivel 2\n",
            "Nivel 2\n",
            "Nivel 2\n",
            "Nivel 2\n",
            "Nivel 2\n",
            "Nivel 2\n",
            "Nivel 2\n",
            "Nivel 2\n",
            "Nivel 1\n",
            "Nivel 2\n",
            "Nivel 2\n",
            "Nivel 2\n",
            "Nivel 2\n",
            "Nivel 2\n",
            "Nivel 2\n",
            "Nivel 2\n",
            "Nivel 2\n",
            "Nivel 2\n",
            "Nivel 2\n",
            "Nivel 2\n",
            "Nivel 2\n",
            "Nivel 2\n",
            "Nivel 2\n"
          ],
          "name": "stdout"
        }
      ]
    }
  ]
}
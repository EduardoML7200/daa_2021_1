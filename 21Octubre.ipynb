{
  "nbformat": 4,
  "nbformat_minor": 0,
  "metadata": {
    "colab": {
      "name": "21Octubre.ipynb",
      "provenance": [],
      "authorship_tag": "ABX9TyPGrmcqqy9/8n/GmVORTdeF",
      "include_colab_link": true
    },
    "kernelspec": {
      "name": "python3",
      "display_name": "Python 3"
    }
  },
  "cells": [
    {
      "cell_type": "markdown",
      "metadata": {
        "id": "view-in-github",
        "colab_type": "text"
      },
      "source": [
        "<a href=\"https://colab.research.google.com/github/EduardoML7200/daa_2021_1/blob/master/21Octubre.ipynb\" target=\"_parent\"><img src=\"https://colab.research.google.com/assets/colab-badge.svg\" alt=\"Open In Colab\"/></a>"
      ]
    },
    {
      "cell_type": "code",
      "metadata": {
        "id": "uCSvEiTRYk4b",
        "outputId": "2c97782d-cb07-441a-c40d-6797ca8226bc",
        "colab": {
          "base_uri": "https://localhost:8080/",
          "height": 34
        }
      },
      "source": [
        "#T(n) = 4\n",
        "def ejemplo1( n ):\n",
        "    c = n + 1\n",
        "    d = c * n\n",
        "    e = n * n\n",
        "    total = c + e - d\n",
        "    print(f\"total={ total }\")\n",
        "ejemplo1( 99999 )\n"
      ],
      "execution_count": 2,
      "outputs": [
        {
          "output_type": "stream",
          "text": [
            "total=1\n"
          ],
          "name": "stdout"
        }
      ]
    },
    {
      "cell_type": "code",
      "metadata": {
        "id": "VXIN0tJhfIi9",
        "outputId": "4ca95bc9-3d5b-441a-9ae8-4d479a6f972b",
        "colab": {
          "base_uri": "https://localhost:8080/",
          "height": 34
        }
      },
      "source": [
        "#T(n) = 1+n**2\n",
        "def ejemplo2( n ):\n",
        "    contador = 0\n",
        "    for i in range( n ) :\n",
        "        for j in range( n ) :\n",
        "            contador += 1\n",
        "    return contador\n",
        "\n",
        "ejemplo2( 10000 )"
      ],
      "execution_count": 3,
      "outputs": [
        {
          "output_type": "execute_result",
          "data": {
            "text/plain": [
              "100000000"
            ]
          },
          "metadata": {
            "tags": []
          },
          "execution_count": 3
        }
      ]
    },
    {
      "cell_type": "code",
      "metadata": {
        "id": "ZjBzXNUWfL8L",
        "outputId": "ee78c67a-3d58-4947-fb0a-71041b43b5f5",
        "colab": {
          "base_uri": "https://localhost:8080/",
          "height": 34
        }
      },
      "source": [
        "#T(n) = 102\n",
        "def ejemplo3( n ): # n=4\n",
        "    x = n * 2 # x = 8\n",
        "    y = 0   # y = 0\n",
        "    for m in range( 100 ): #3\n",
        "        y = x - n   # y = 4\n",
        "    return y\n",
        "\n",
        "ejemplo3(1000000000)"
      ],
      "execution_count": 4,
      "outputs": [
        {
          "output_type": "execute_result",
          "data": {
            "text/plain": [
              "1000000000"
            ]
          },
          "metadata": {
            "tags": []
          },
          "execution_count": 4
        }
      ]
    },
    {
      "cell_type": "code",
      "metadata": {
        "id": "MAhXEGbvfiaK",
        "outputId": "b6994830-0cf9-45b6-c3f0-4e1e6780ca9c",
        "colab": {
          "base_uri": "https://localhost:8080/",
          "height": 34
        }
      },
      "source": [
        "#T(n) = 3\n",
        "def ejemplo4( n ):\n",
        "    x = 3 * 3.1416 + n\n",
        "    y = x + 3 * 3 - n\n",
        "    z = x + y\n",
        "    return z\n",
        "\n",
        "ejemplo4(9)"
      ],
      "execution_count": 5,
      "outputs": [
        {
          "output_type": "execute_result",
          "data": {
            "text/plain": [
              "36.849599999999995"
            ]
          },
          "metadata": {
            "tags": []
          },
          "execution_count": 5
        }
      ]
    },
    {
      "cell_type": "code",
      "metadata": {
        "id": "MYQtw1WDfzjK",
        "outputId": "fa8b82e2-eb3b-4e78-d983-686f851c6b76",
        "colab": {
          "base_uri": "https://localhost:8080/",
          "height": 34
        }
      },
      "source": [
        "#T(n) = 1 + x\n",
        "def ejemplo5( x ):\n",
        "    n = 10\n",
        "    for j in range( 0 , x , 1 ):\n",
        "        n = j + n\n",
        "    return n\n",
        "\n",
        "ejemplo5(1000000)"
      ],
      "execution_count": 7,
      "outputs": [
        {
          "output_type": "execute_result",
          "data": {
            "text/plain": [
              "499999500010"
            ]
          },
          "metadata": {
            "tags": []
          },
          "execution_count": 7
        }
      ]
    },
    {
      "cell_type": "code",
      "metadata": {
        "id": "sp1ZzE2qg8dU",
        "outputId": "efca3cd2-3471-4ca3-9c71-746aeca82adc",
        "colab": {
          "base_uri": "https://localhost:8080/",
          "height": 34
        }
      },
      "source": [
        "#T(n) = 2 + n**3\n",
        "def ejemplo6( n ):\n",
        "    data=[[[1 for x in range(n)] for x in range(n)]\n",
        "          for x in range(n)]\n",
        "    suma = 0\n",
        "    for d in range(n):\n",
        "        for r in range(n):\n",
        "            for c in range(n):\n",
        "                suma += data[d][r][c]\n",
        "    return suma\n",
        "print(ejemplo6( 5 ))"
      ],
      "execution_count": 8,
      "outputs": [
        {
          "output_type": "stream",
          "text": [
            "125\n"
          ],
          "name": "stdout"
        }
      ]
    },
    {
      "cell_type": "code",
      "metadata": {
        "id": "-NRmDV7Pi_N7",
        "outputId": "41abc3e2-036b-49e4-c9ef-6c6ef8a84699",
        "colab": {
          "base_uri": "https://localhost:8080/",
          "height": 51
        }
      },
      "source": [
        "from time import time\n",
        "\n",
        "def ejemplo6( n ):\n",
        "    start_time = time()\n",
        "    data=[[[1 for x in range(n)] for x in range(n)] \n",
        "          for x in range(n)]\n",
        "    suma = 0\n",
        "    for d in range(n):\n",
        "        for r in range(n):\n",
        "            for c in range(n):\n",
        "                suma += data[d][r][c]\n",
        "    elapsed_time = time() - start_time\n",
        "    print(\"Tiempo transcurrido: %0.10f segundos.\" % elapsed_time)\n",
        "    return suma\n",
        "ejemplo6( 500 )"
      ],
      "execution_count": 9,
      "outputs": [
        {
          "output_type": "stream",
          "text": [
            "Tiempo transcurrido: 18.7797868252 segundos.\n"
          ],
          "name": "stdout"
        },
        {
          "output_type": "execute_result",
          "data": {
            "text/plain": [
              "125000000"
            ]
          },
          "metadata": {
            "tags": []
          },
          "execution_count": 9
        }
      ]
    }
  ]
}
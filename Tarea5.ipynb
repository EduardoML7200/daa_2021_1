{
  "nbformat": 4,
  "nbformat_minor": 0,
  "metadata": {
    "colab": {
      "name": "Tarea5.ipynb",
      "provenance": [],
      "authorship_tag": "ABX9TyN7wS2+ykPikfgxNHrMa9Hq",
      "include_colab_link": true
    },
    "kernelspec": {
      "name": "python3",
      "display_name": "Python 3"
    }
  },
  "cells": [
    {
      "cell_type": "markdown",
      "metadata": {
        "id": "view-in-github",
        "colab_type": "text"
      },
      "source": [
        "<a href=\"https://colab.research.google.com/github/EduardoML7200/daa_2021_1/blob/master/Tarea5.ipynb\" target=\"_parent\"><img src=\"https://colab.research.google.com/assets/colab-badge.svg\" alt=\"Open In Colab\"/></a>"
      ]
    },
    {
      "cell_type": "code",
      "metadata": {
        "id": "BfEX5yfU8Zum",
        "outputId": "65eb84f7-4d95-4e1d-a0ab-6d89644f90c3",
        "colab": {
          "base_uri": "https://localhost:8080/",
          "height": 357
        }
      },
      "source": [
        "#T(n) = 4\n",
        "from time import time\n",
        "\n",
        "def ejemplo1( n ):\n",
        "    start_time = time()\n",
        "    c = n + 1\n",
        "    d = c * n\n",
        "    e = n * n\n",
        "    total = c + e - d\n",
        "    print(f\"total={ total }\")\n",
        "    \n",
        "    elapsed_time = time() - start_time\n",
        "    print(\"Tiempo transcurrido: %0.10f segundos.\" % elapsed_time)\n",
        "\n",
        "\n",
        "def main():\n",
        "  ejemplo1(100)\n",
        "  ejemplo1(200)\n",
        "  ejemplo1(300)\n",
        "  ejemplo1(400)\n",
        "  ejemplo1(500)\n",
        "  ejemplo1(600)\n",
        "  ejemplo1(700)\n",
        "  ejemplo1(800)\n",
        "  ejemplo1(900)\n",
        "  ejemplo1(1000)\n",
        "\n",
        "\n",
        "main()"
      ],
      "execution_count": 1,
      "outputs": [
        {
          "output_type": "stream",
          "text": [
            "total=1\n",
            "Tiempo transcurrido: 0.0001316071 segundos.\n",
            "total=1\n",
            "Tiempo transcurrido: 0.0000159740 segundos.\n",
            "total=1\n",
            "Tiempo transcurrido: 0.0000627041 segundos.\n",
            "total=1\n",
            "Tiempo transcurrido: 0.0000205040 segundos.\n",
            "total=1\n",
            "Tiempo transcurrido: 0.0000188351 segundos.\n",
            "total=1\n",
            "Tiempo transcurrido: 0.0000338554 segundos.\n",
            "total=1\n",
            "Tiempo transcurrido: 0.0000157356 segundos.\n",
            "total=1\n",
            "Tiempo transcurrido: 0.0000140667 segundos.\n",
            "total=1\n",
            "Tiempo transcurrido: 0.0000138283 segundos.\n",
            "total=1\n",
            "Tiempo transcurrido: 0.0000348091 segundos.\n"
          ],
          "name": "stdout"
        }
      ]
    },
    {
      "cell_type": "code",
      "metadata": {
        "id": "fM3iCQyF8cie",
        "outputId": "58f25107-bc95-4a60-9057-75ee1d45b5b5",
        "colab": {
          "base_uri": "https://localhost:8080/",
          "height": 187
        }
      },
      "source": [
        "#T(n) = 1+n**2\n",
        "from time import time\n",
        "\n",
        "def ejemplo2( n ):\n",
        "    start_time = time()\n",
        "    contador = 0\n",
        "    for i in range( n ) :\n",
        "        for j in range( n ) :\n",
        "            contador += 1\n",
        "\n",
        "    elapsed_time = time() - start_time\n",
        "    print(\"Tiempo transcurrido: %0.10f segundos.\" % elapsed_time)\n",
        "    return contador\n",
        "\n",
        "def main():\n",
        "  ejemplo2(100)\n",
        "  ejemplo2(200)\n",
        "  ejemplo2(300)\n",
        "  ejemplo2(400)\n",
        "  ejemplo2(500)\n",
        "  ejemplo2(600)\n",
        "  ejemplo2(700)\n",
        "  ejemplo2(800)\n",
        "  ejemplo2(900)\n",
        "  ejemplo2(1000)\n",
        "\n",
        "\n",
        "main()"
      ],
      "execution_count": 2,
      "outputs": [
        {
          "output_type": "stream",
          "text": [
            "Tiempo transcurrido: 0.0007431507 segundos.\n",
            "Tiempo transcurrido: 0.0032052994 segundos.\n",
            "Tiempo transcurrido: 0.0069725513 segundos.\n",
            "Tiempo transcurrido: 0.0123107433 segundos.\n",
            "Tiempo transcurrido: 0.0176908970 segundos.\n",
            "Tiempo transcurrido: 0.0224294662 segundos.\n",
            "Tiempo transcurrido: 0.0329577923 segundos.\n",
            "Tiempo transcurrido: 0.0409326553 segundos.\n",
            "Tiempo transcurrido: 0.0494182110 segundos.\n",
            "Tiempo transcurrido: 0.0677814484 segundos.\n"
          ],
          "name": "stdout"
        }
      ]
    },
    {
      "cell_type": "code",
      "metadata": {
        "id": "9IMDsq5e8fa2",
        "outputId": "ee2196e1-d060-4951-8648-b064ab51970e",
        "colab": {
          "base_uri": "https://localhost:8080/",
          "height": 187
        }
      },
      "source": [
        "#T(n) = 102\n",
        "def ejemplo3( n ): # n=4\n",
        "    start_time = time()\n",
        "    x = n * 2 # x = 8\n",
        "    y = 0   # y = 0\n",
        "    for m in range( 100 ): #3\n",
        "        y = x - n   # y = 4\n",
        "    elapsed_time = time() - start_time\n",
        "    print(\"Tiempo transcurrido: %0.10f segundos.\" % elapsed_time)\n",
        "    return y\n",
        "\n",
        "def main():\n",
        "  ejemplo3(100)\n",
        "  ejemplo3(200)\n",
        "  ejemplo3(300)\n",
        "  ejemplo3(400)\n",
        "  ejemplo3(500)\n",
        "  ejemplo3(600)\n",
        "  ejemplo3(700)\n",
        "  ejemplo3(800)\n",
        "  ejemplo3(900)\n",
        "  ejemplo3(1000)\n",
        "\n",
        "\n",
        "main()"
      ],
      "execution_count": 3,
      "outputs": [
        {
          "output_type": "stream",
          "text": [
            "Tiempo transcurrido: 0.0000047684 segundos.\n",
            "Tiempo transcurrido: 0.0000059605 segundos.\n",
            "Tiempo transcurrido: 0.0000178814 segundos.\n",
            "Tiempo transcurrido: 0.0000083447 segundos.\n",
            "Tiempo transcurrido: 0.0000090599 segundos.\n",
            "Tiempo transcurrido: 0.0000088215 segundos.\n",
            "Tiempo transcurrido: 0.0000085831 segundos.\n",
            "Tiempo transcurrido: 0.0000522137 segundos.\n",
            "Tiempo transcurrido: 0.0000100136 segundos.\n",
            "Tiempo transcurrido: 0.0000100136 segundos.\n"
          ],
          "name": "stdout"
        }
      ]
    },
    {
      "cell_type": "code",
      "metadata": {
        "id": "Bbw3WxG68lYu",
        "outputId": "e98ee1c5-c34c-4cc6-e954-26f5a8c37f18",
        "colab": {
          "base_uri": "https://localhost:8080/",
          "height": 187
        }
      },
      "source": [
        "#T(n) = 3\n",
        "from time import time\n",
        "\n",
        "def ejemplo4( n ):\n",
        "    start_time = time()\n",
        "    x = 3 * 3.1416 + n\n",
        "    y = x + 3 * 3 - n\n",
        "    z = x + y\n",
        "    elapsed_time = time() - start_time\n",
        "    print(\"Tiempo transcurrido: %0.10f segundos.\" % elapsed_time)\n",
        "    return z\n",
        "\n",
        "def main():\n",
        "  \n",
        "  ejemplo4(100)\n",
        "  ejemplo4(200)\n",
        "  ejemplo4(300)\n",
        "  ejemplo4(400)\n",
        "  ejemplo4(500)\n",
        "  ejemplo4(600)\n",
        "  ejemplo4(700)\n",
        "  ejemplo4(800)\n",
        "  ejemplo4(900)\n",
        "  ejemplo4(1000)\n",
        "\n",
        "\n",
        "main()"
      ],
      "execution_count": 5,
      "outputs": [
        {
          "output_type": "stream",
          "text": [
            "Tiempo transcurrido: 0.0000014305 segundos.\n",
            "Tiempo transcurrido: 0.0000007153 segundos.\n",
            "Tiempo transcurrido: 0.0000007153 segundos.\n",
            "Tiempo transcurrido: 0.0000004768 segundos.\n",
            "Tiempo transcurrido: 0.0000004768 segundos.\n",
            "Tiempo transcurrido: 0.0000002384 segundos.\n",
            "Tiempo transcurrido: 0.0000004768 segundos.\n",
            "Tiempo transcurrido: 0.0000002384 segundos.\n",
            "Tiempo transcurrido: 0.0000004768 segundos.\n",
            "Tiempo transcurrido: 0.0000004768 segundos.\n"
          ],
          "name": "stdout"
        }
      ]
    },
    {
      "cell_type": "code",
      "metadata": {
        "id": "ThNRPvyr8ok8",
        "outputId": "05d9d822-5d8d-4588-bd2c-f3e79fcc4240",
        "colab": {
          "base_uri": "https://localhost:8080/",
          "height": 187
        }
      },
      "source": [
        "#T(n) = 1 + x\n",
        "from time import time\n",
        "\n",
        "def ejemplo5( x ):\n",
        "    start_time = time()\n",
        "    n = 10\n",
        "    for j in range( 0 , x , 1 ):\n",
        "        n = j + n\n",
        "    elapsed_time = time() - start_time\n",
        "    print(\"Tiempo transcurrido: %0.10f segundos.\" % elapsed_time)\n",
        "    return n\n",
        "\n",
        "def main():\n",
        "\n",
        "  ejemplo5(100)\n",
        "  ejemplo5(200)\n",
        "  ejemplo5(300)\n",
        "  ejemplo5(400)\n",
        "  ejemplo5(500)\n",
        "  ejemplo5(600)\n",
        "  ejemplo5(700)\n",
        "  ejemplo5(800)\n",
        "  ejemplo5(900)\n",
        "  ejemplo5(1000)\n",
        "\n",
        "main()"
      ],
      "execution_count": 6,
      "outputs": [
        {
          "output_type": "stream",
          "text": [
            "Tiempo transcurrido: 0.0000090599 segundos.\n",
            "Tiempo transcurrido: 0.0000176430 segundos.\n",
            "Tiempo transcurrido: 0.0000269413 segundos.\n",
            "Tiempo transcurrido: 0.0000371933 segundos.\n",
            "Tiempo transcurrido: 0.0000472069 segundos.\n",
            "Tiempo transcurrido: 0.0000581741 segundos.\n",
            "Tiempo transcurrido: 0.0001263618 segundos.\n",
            "Tiempo transcurrido: 0.0000844002 segundos.\n",
            "Tiempo transcurrido: 0.0000782013 segundos.\n",
            "Tiempo transcurrido: 0.0000891685 segundos.\n"
          ],
          "name": "stdout"
        }
      ]
    },
    {
      "cell_type": "code",
      "metadata": {
        "id": "_nXbWLq38qxV",
        "outputId": "f36df683-5437-4429-f4ae-d4f2e570205d",
        "colab": {
          "base_uri": "https://localhost:8080/",
          "height": 102
        }
      },
      "source": [
        "from time import time\n",
        "\n",
        "def ejemplo6( n ):\n",
        "    start_time = time()\n",
        "    data=[[[1 for x in range(n)] for x in range(n)] \n",
        "          for x in range(n)]\n",
        "    suma = 0\n",
        "    for d in range(n):\n",
        "        for r in range(n):\n",
        "            for c in range(n):\n",
        "                suma += data[d][r][c]\n",
        "    elapsed_time = time() - start_time\n",
        "    print(\"Tiempo transcurrido: %0.10f segundos.\" % elapsed_time)\n",
        "    return suma\n",
        "def main():\n",
        "\n",
        "  ejemplo6(100)\n",
        "  ejemplo6(200)\n",
        "  ejemplo6(300)\n",
        "  ejemplo6(400)\n",
        "  ejemplo6(500)\n",
        "  ejemplo6(600)\n",
        "  ejemplo6(700)\n",
        "  ejemplo6(800)\n",
        "  ejemplo6(900)\n",
        "  ejemplo6(1000)\n",
        "\n",
        "main()"
      ],
      "execution_count": null,
      "outputs": [
        {
          "output_type": "stream",
          "text": [
            "Tiempo transcurrido: 0.1887819767 segundos.\n",
            "Tiempo transcurrido: 1.0545730591 segundos.\n",
            "Tiempo transcurrido: 3.7984623909 segundos.\n",
            "Tiempo transcurrido: 9.5535314083 segundos.\n",
            "Tiempo transcurrido: 18.1060025692 segundos.\n"
          ],
          "name": "stdout"
        }
      ]
    }
  ]
}
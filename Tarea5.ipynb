{
  "nbformat": 4,
  "nbformat_minor": 0,
  "metadata": {
    "colab": {
      "name": "Tarea5.ipynb",
      "provenance": [],
      "authorship_tag": "ABX9TyP+1T51oGsumxUUzKFW2kVL",
      "include_colab_link": true
    },
    "kernelspec": {
      "name": "python3",
      "display_name": "Python 3"
    }
  },
  "cells": [
    {
      "cell_type": "markdown",
      "metadata": {
        "id": "view-in-github",
        "colab_type": "text"
      },
      "source": [
        "<a href=\"https://colab.research.google.com/github/EduardoML7200/daa_2021_1/blob/master/Tarea5.ipynb\" target=\"_parent\"><img src=\"https://colab.research.google.com/assets/colab-badge.svg\" alt=\"Open In Colab\"/></a>"
      ]
    },
    {
      "cell_type": "code",
      "metadata": {
        "id": "BfEX5yfU8Zum",
        "outputId": "d7483dca-14fe-4a38-aae7-214236268e1d",
        "colab": {
          "base_uri": "https://localhost:8080/",
          "height": 357
        }
      },
      "source": [
        "#T(n) = 4\n",
        "from time import time\n",
        "\n",
        "def ejemplo1( n ):\n",
        "    start_time = time()\n",
        "    c = n + 1\n",
        "    d = c * n\n",
        "    e = n * n\n",
        "    total = c + e - d\n",
        "    print(f\"total={ total }\")\n",
        "    \n",
        "    elapsed_time = time() - start_time\n",
        "    print(\"Tiempo transcurrido: %0.10f segundos.\" % elapsed_time)\n",
        "\n",
        "\n",
        "def main():\n",
        "  for i in range (100 , 1100 , 100 ):\n",
        "    ejemplo1(i)\n",
        "\n",
        "\n",
        "main()"
      ],
      "execution_count": 10,
      "outputs": [
        {
          "output_type": "stream",
          "text": [
            "total=1\n",
            "Tiempo transcurrido: 0.0000798702 segundos.\n",
            "total=1\n",
            "Tiempo transcurrido: 0.0000154972 segundos.\n",
            "total=1\n",
            "Tiempo transcurrido: 0.0000140667 segundos.\n",
            "total=1\n",
            "Tiempo transcurrido: 0.0000138283 segundos.\n",
            "total=1\n",
            "Tiempo transcurrido: 0.0000133514 segundos.\n",
            "total=1\n",
            "Tiempo transcurrido: 0.0000128746 segundos.\n",
            "total=1\n",
            "Tiempo transcurrido: 0.0000376701 segundos.\n",
            "total=1\n",
            "Tiempo transcurrido: 0.0000140667 segundos.\n",
            "total=1\n",
            "Tiempo transcurrido: 0.0000147820 segundos.\n",
            "total=1\n",
            "Tiempo transcurrido: 0.0000133514 segundos.\n"
          ],
          "name": "stdout"
        }
      ]
    },
    {
      "cell_type": "code",
      "metadata": {
        "id": "fM3iCQyF8cie",
        "outputId": "5c0e5d04-1783-4fa0-8c86-8f71edacd145",
        "colab": {
          "base_uri": "https://localhost:8080/",
          "height": 187
        }
      },
      "source": [
        "#T(n) = 1+n**2\n",
        "from time import time\n",
        "\n",
        "def ejemplo2( n ):\n",
        "    start_time = time()\n",
        "    contador = 0\n",
        "    for i in range( n ) :\n",
        "        for j in range( n ) :\n",
        "            contador += 1\n",
        "\n",
        "    elapsed_time = time() - start_time\n",
        "    print(\"Tiempo transcurrido: %0.10f segundos.\" % elapsed_time)\n",
        "    return contador\n",
        "\n",
        "def main():\n",
        "  for i in range (100 , 1100 , 100 ):\n",
        "    ejemplo2(i)\n",
        "\n",
        "main()"
      ],
      "execution_count": 11,
      "outputs": [
        {
          "output_type": "stream",
          "text": [
            "Tiempo transcurrido: 0.0010538101 segundos.\n",
            "Tiempo transcurrido: 0.0025188923 segundos.\n",
            "Tiempo transcurrido: 0.0044898987 segundos.\n",
            "Tiempo transcurrido: 0.0084824562 segundos.\n",
            "Tiempo transcurrido: 0.0153949261 segundos.\n",
            "Tiempo transcurrido: 0.0195052624 segundos.\n",
            "Tiempo transcurrido: 0.0262207985 segundos.\n",
            "Tiempo transcurrido: 0.0369112492 segundos.\n",
            "Tiempo transcurrido: 0.0450415611 segundos.\n",
            "Tiempo transcurrido: 0.0550060272 segundos.\n"
          ],
          "name": "stdout"
        }
      ]
    },
    {
      "cell_type": "code",
      "metadata": {
        "id": "9IMDsq5e8fa2",
        "outputId": "904ff87b-ec8b-48b5-ce77-eef9136ff02d",
        "colab": {
          "base_uri": "https://localhost:8080/",
          "height": 187
        }
      },
      "source": [
        "#T(n) = 102\n",
        "def ejemplo3( n ): # n=4\n",
        "    start_time = time()\n",
        "    x = n * 2 # x = 8\n",
        "    y = 0   # y = 0\n",
        "    for m in range( 100 ): #3\n",
        "        y = x - n   # y = 4\n",
        "    elapsed_time = time() - start_time\n",
        "    print(\"Tiempo transcurrido: %0.10f segundos.\" % elapsed_time)\n",
        "    return y\n",
        "\n",
        "def main():\n",
        "  for i in range (100 , 1100 , 100 ):\n",
        "    ejemplo3(i)\n",
        "\n",
        "main()"
      ],
      "execution_count": 12,
      "outputs": [
        {
          "output_type": "stream",
          "text": [
            "Tiempo transcurrido: 0.0000073910 segundos.\n",
            "Tiempo transcurrido: 0.0000057220 segundos.\n",
            "Tiempo transcurrido: 0.0000069141 segundos.\n",
            "Tiempo transcurrido: 0.0000066757 segundos.\n",
            "Tiempo transcurrido: 0.0000064373 segundos.\n",
            "Tiempo transcurrido: 0.0000081062 segundos.\n",
            "Tiempo transcurrido: 0.0000066757 segundos.\n",
            "Tiempo transcurrido: 0.0000066757 segundos.\n",
            "Tiempo transcurrido: 0.0000066757 segundos.\n",
            "Tiempo transcurrido: 0.0000073910 segundos.\n"
          ],
          "name": "stdout"
        }
      ]
    },
    {
      "cell_type": "code",
      "metadata": {
        "id": "Bbw3WxG68lYu",
        "outputId": "b423b121-d6b9-4d5e-d779-b71e34410638",
        "colab": {
          "base_uri": "https://localhost:8080/",
          "height": 187
        }
      },
      "source": [
        "#T(n) = 3\n",
        "from time import time\n",
        "\n",
        "def ejemplo4( n ):\n",
        "    start_time = time()\n",
        "    x = 3 * 3.1416 + n\n",
        "    y = x + 3 * 3 - n\n",
        "    z = x + y\n",
        "    elapsed_time = time() - start_time\n",
        "    print(\"Tiempo transcurrido: %0.10f segundos.\" % elapsed_time)\n",
        "    return z\n",
        "\n",
        "def main():\n",
        "  \n",
        "  for i in range (100 , 1100 , 100 ):\n",
        "    ejemplo4(i)\n",
        "\n",
        "\n",
        "main()"
      ],
      "execution_count": 13,
      "outputs": [
        {
          "output_type": "stream",
          "text": [
            "Tiempo transcurrido: 0.0000011921 segundos.\n",
            "Tiempo transcurrido: 0.0000007153 segundos.\n",
            "Tiempo transcurrido: 0.0000004768 segundos.\n",
            "Tiempo transcurrido: 0.0000004768 segundos.\n",
            "Tiempo transcurrido: 0.0000004768 segundos.\n",
            "Tiempo transcurrido: 0.0000002384 segundos.\n",
            "Tiempo transcurrido: 0.0000007153 segundos.\n",
            "Tiempo transcurrido: 0.0000002384 segundos.\n",
            "Tiempo transcurrido: 0.0000002384 segundos.\n",
            "Tiempo transcurrido: 0.0000004768 segundos.\n"
          ],
          "name": "stdout"
        }
      ]
    },
    {
      "cell_type": "code",
      "metadata": {
        "id": "ThNRPvyr8ok8",
        "outputId": "b91e0db7-87fb-4246-9060-4a7b942db8d8",
        "colab": {
          "base_uri": "https://localhost:8080/",
          "height": 187
        }
      },
      "source": [
        "#T(n) = 1 + x\n",
        "from time import time\n",
        "\n",
        "def ejemplo5( x ):\n",
        "    start_time = time()\n",
        "    n = 10\n",
        "    for j in range( 0 , x , 1 ):\n",
        "        n = j + n\n",
        "    elapsed_time = time() - start_time\n",
        "    print(\"Tiempo transcurrido: %0.10f segundos.\" % elapsed_time)\n",
        "    return n\n",
        "\n",
        "def main():\n",
        "\n",
        "  for i in range (100 , 1100 , 100 ):\n",
        "    ejemplo5(i)\n",
        "\n",
        "main()"
      ],
      "execution_count": 14,
      "outputs": [
        {
          "output_type": "stream",
          "text": [
            "Tiempo transcurrido: 0.0000109673 segundos.\n",
            "Tiempo transcurrido: 0.0000205040 segundos.\n",
            "Tiempo transcurrido: 0.0000257492 segundos.\n",
            "Tiempo transcurrido: 0.0000360012 segundos.\n",
            "Tiempo transcurrido: 0.0000464916 segundos.\n",
            "Tiempo transcurrido: 0.0000710487 segundos.\n",
            "Tiempo transcurrido: 0.0000710487 segundos.\n",
            "Tiempo transcurrido: 0.0001206398 segundos.\n",
            "Tiempo transcurrido: 0.0000901222 segundos.\n",
            "Tiempo transcurrido: 0.0000977516 segundos.\n"
          ],
          "name": "stdout"
        }
      ]
    },
    {
      "cell_type": "code",
      "metadata": {
        "id": "_nXbWLq38qxV",
        "outputId": "626f57f6-4e6a-4bf4-d82f-f4028468de8b",
        "colab": {
          "base_uri": "https://localhost:8080/",
          "height": 187
        }
      },
      "source": [
        "from time import time\n",
        "\n",
        "def ejemplo6( n ):\n",
        "    start_time = time()\n",
        "    data=[[[1 for x in range(n)] for x in range(n)] \n",
        "          for x in range(n)]\n",
        "    suma = 0\n",
        "    for d in range(n):\n",
        "        for r in range(n):\n",
        "            for c in range(n):\n",
        "                suma += data[d][r][c]\n",
        "    elapsed_time = time() - start_time\n",
        "    print(\"Tiempo transcurrido: %0.10f segundos.\" % elapsed_time)\n",
        "    return suma\n",
        "def main():\n",
        "\n",
        "  for i in range (100 , 1100 , 100 ):\n",
        "    ejemplo6(i)\n",
        "\n",
        "main()"
      ],
      "execution_count": 15,
      "outputs": [
        {
          "output_type": "stream",
          "text": [
            "Tiempo transcurrido: 0.1367292404 segundos.\n",
            "Tiempo transcurrido: 1.0820300579 segundos.\n",
            "Tiempo transcurrido: 3.5519475937 segundos.\n",
            "Tiempo transcurrido: 9.8904943466 segundos.\n",
            "Tiempo transcurrido: 18.2853796482 segundos.\n",
            "Tiempo transcurrido: 32.6987924576 segundos.\n",
            "Tiempo transcurrido: 54.0725350380 segundos.\n",
            "Tiempo transcurrido: 81.7193384171 segundos.\n",
            "Tiempo transcurrido: 114.2790460587 segundos.\n",
            "Tiempo transcurrido: 164.3403391838 segundos.\n"
          ],
          "name": "stdout"
        }
      ]
    }
  ]
}
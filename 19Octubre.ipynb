{
  "nbformat": 4,
  "nbformat_minor": 0,
  "metadata": {
    "colab": {
      "name": "19Octubre.ipynb",
      "provenance": [],
      "authorship_tag": "ABX9TyNiJElUYivpmtEfcp0wA05T",
      "include_colab_link": true
    },
    "kernelspec": {
      "name": "python3",
      "display_name": "Python 3"
    }
  },
  "cells": [
    {
      "cell_type": "markdown",
      "metadata": {
        "id": "view-in-github",
        "colab_type": "text"
      },
      "source": [
        "<a href=\"https://colab.research.google.com/github/EduardoML7200/daa_2021_1/blob/master/19Octubre.ipynb\" target=\"_parent\"><img src=\"https://colab.research.google.com/assets/colab-badge.svg\" alt=\"Open In Colab\"/></a>"
      ]
    },
    {
      "cell_type": "code",
      "metadata": {
        "id": "07vkmdfXMQXE",
        "outputId": "b55e9e9c-7bbb-4995-f213-f82b4ded88d3",
        "colab": {
          "base_uri": "https://localhost:8080/",
          "height": 272
        }
      },
      "source": [
        "a2d = [[3,2,1],[6,4,8],[5,6,7]]\n",
        "n = 3\n",
        "print(a2d)\n",
        "\n",
        "total = 0\n",
        "print(\"nivel 1\")\n",
        "\n",
        "for ren in range(n):\n",
        "  sumaRenglon = 0\n",
        "  print(\"Nivel 2\")\n",
        "  for col in range(n):\n",
        "    sumaRenglon += a2d[ren][col]\n",
        "    total += a2d[ren][col]\n",
        "    print(\"Nivel 3\")\n",
        "print(total)\n"
      ],
      "execution_count": 4,
      "outputs": [
        {
          "output_type": "stream",
          "text": [
            "[[3, 2, 1], [6, 4, 8], [5, 6, 7]]\n",
            "nivel 1\n",
            "Nivel 2\n",
            "Nivel 3\n",
            "Nivel 3\n",
            "Nivel 3\n",
            "Nivel 2\n",
            "Nivel 3\n",
            "Nivel 3\n",
            "Nivel 3\n",
            "Nivel 2\n",
            "Nivel 3\n",
            "Nivel 3\n",
            "Nivel 3\n",
            "42\n"
          ],
          "name": "stdout"
        }
      ]
    }
  ]
}
{
  "nbformat": 4,
  "nbformat_minor": 0,
  "metadata": {
    "colab": {
      "name": "05Octubre.ipynb",
      "provenance": [],
      "authorship_tag": "ABX9TyMq0J3pnq8tfH0opM164oih",
      "include_colab_link": true
    },
    "kernelspec": {
      "name": "python3",
      "display_name": "Python 3"
    }
  },
  "cells": [
    {
      "cell_type": "markdown",
      "metadata": {
        "id": "view-in-github",
        "colab_type": "text"
      },
      "source": [
        "<a href=\"https://colab.research.google.com/github/EduardoML7200/daa_2021_1/blob/master/05Octubre.ipynb\" target=\"_parent\"><img src=\"https://colab.research.google.com/assets/colab-badge.svg\" alt=\"Open In Colab\"/></a>"
      ]
    },
    {
      "cell_type": "markdown",
      "metadata": {
        "id": "Y1uX_AdA_WER"
      },
      "source": [
        "# Estructura de datos: Pila (Stack)\n",
        "- Last In First Out (LIFO)\n",
        "- De tipo lineal\n",
        "- Se pueden obtener e ingresar datos desde el tope\n",
        "- Push (Agregar)\n",
        "- Pop (Sacar último)\n",
        "\n",
        "## Operaciones de las pilas:\n",
        "- is_empty (regresa true o false) \n",
        "- get_top(regresa el elemento en el tope SIN SACARLO)\n",
        "- pop (Saca el elemento del tope y lo regresa)\n",
        "- push (mete un elemento en el tope)\n",
        "- get_length (regresa el numero de lemento s en la pila)\n"
      ]
    },
    {
      "cell_type": "code",
      "metadata": {
        "id": "7focnuje-83K",
        "outputId": "60a4ef71-7c19-4e2b-e48c-5b4265eeaec2",
        "colab": {
          "base_uri": "https://localhost:8080/",
          "height": 102
        }
      },
      "source": [
        "class Stack :\n",
        "  def __init__( self ):\n",
        "    self.__datos = []\n",
        "\n",
        "  def is_empty( self ):\n",
        "    return len(self.__datos) == 0\n",
        "\n",
        "  def get_top( self ):\n",
        "    return self.__datos[-1]\n",
        "\n",
        "  def pop( self ):\n",
        "    return self.__datos.pop()\n",
        "\n",
        "  def push( self , elemento ):\n",
        "    self.__datos.append( elemento )\n",
        "\n",
        "  def get_length( self ):\n",
        "    return len(self.__datos)\n",
        "\n",
        "  def to_string( self ):\n",
        "    for ele in self.__datos:\n",
        "      print(f\" { ele } \")\n",
        "\n",
        "def main():\n",
        "  pila1 = Stack()\n",
        "  pila1.push(10)\n",
        "  pila1.push(20)\n",
        "  pila1.push(1)\n",
        "  pila1.push(393)\n",
        "  pila1.push(103)\n",
        "  pila1.to_string()\n",
        "\n",
        "main()\n"
      ],
      "execution_count": 2,
      "outputs": [
        {
          "output_type": "stream",
          "text": [
            " 10 \n",
            " 20 \n",
            " 1 \n",
            " 393 \n",
            " 103 \n"
          ],
          "name": "stdout"
        }
      ]
    }
  ]
}
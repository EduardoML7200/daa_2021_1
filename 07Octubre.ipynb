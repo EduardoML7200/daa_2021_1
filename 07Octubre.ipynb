{
  "nbformat": 4,
  "nbformat_minor": 0,
  "metadata": {
    "colab": {
      "name": "07Octubre.ipynb",
      "provenance": [],
      "authorship_tag": "ABX9TyNbTB/WUZ7EOXGq9tiJEEIX",
      "include_colab_link": true
    },
    "kernelspec": {
      "name": "python3",
      "display_name": "Python 3"
    }
  },
  "cells": [
    {
      "cell_type": "markdown",
      "metadata": {
        "id": "view-in-github",
        "colab_type": "text"
      },
      "source": [
        "<a href=\"https://colab.research.google.com/github/EduardoML7200/daa_2021_1/blob/master/07Octubre.ipynb\" target=\"_parent\"><img src=\"https://colab.research.google.com/assets/colab-badge.svg\" alt=\"Open In Colab\"/></a>"
      ]
    },
    {
      "cell_type": "markdown",
      "metadata": {
        "id": "COZPCCyIShol"
      },
      "source": [
        "# Búsqueda líneal\n",
        "Dada un conjunto de datos no ordenados , la busqieda lineal consiste en recorrer el conjunto de datos dese el inicio al final, moviendose de uno en uno hasta encontrar el elemento o llegar al final del conjunto.\n",
        "\n",
        "datos = [ 4, 18, 47, 2, 34, 14, 78, 12, 48, 21, 31, 19, 1, 3, 5]\n",
        "\n",
        "#Búsqueda Binaria\n",
        "Funciona sobre un conjunto de datos lineal ordenado, consiste en dividir el conjunto en mitades y buscar en esa mitad, si el elemento buscado no está en la mitad, preguntas si el elemento esta a la derecha o a la izquierda.\n",
        "Haces la lista igual a la mitad correspondiente y repites el proceso.\n",
        "\n",
        "L = [1, 2, 3, 4, 5, 12, 14, 18, 19, 21, 31, 34, 47, 48, 78]\n",
        "\n",
        "DER = LONGITUD ( L ) -1\n",
        "\n",
        "IZQ = 0\n",
        "\n",
        "MID = 0 -> apuntara a la mitad del segmento de busqueda\n",
        "\n",
        "1. Hacer DER\n",
        "2. Hacer IZQ = 0\n",
        "3. Si IZQ > DER hay un error en datos\n",
        "4. Calcular MID = int( ( IZQ + DER ) / 2 )\n",
        "5. Mientras L[MID] != buscado hacer \n",
        "6.      Preguntar L[MID] > buscado\n",
        "          hacer DER = MID\n",
        "        de lo contrario \n",
        "          hacer IZQ = MID\n",
        "        preguntar (DER - IZQ ) % 2\n",
        "          MID = ( IZQ + (( DER - IZQ ) / 2 ) + 1\n",
        "        de lo contrario\n",
        "          MID = IZQ + (( DER - IZQ ) / 2)\n",
        "7. return MID \n",
        "        \n",
        "\n",
        "\n",
        "\n"
      ]
    },
    {
      "cell_type": "code",
      "metadata": {
        "id": "OCtyeUsbSbIo",
        "outputId": "478a2d19-caa8-4bba-851b-3852fd619091",
        "colab": {
          "base_uri": "https://localhost:8080/"
        }
      },
      "source": [
        "\"\"\"\n",
        "Busqueda lineal regresa la posicion del elemento \"Buscado\" si se encuentra dentro de la lista. Regresa -1 si el elemento buscado no existe dentro de ella\n",
        "\"\"\"\n",
        "def busqueda_lineal( L , buscado ):\n",
        "  indice = -1\n",
        "  contador =  0\n",
        "  for idx in range(len(L)):\n",
        "    contador += 1\n",
        "    if L[idx] == buscado:\n",
        "      indice = idx\n",
        "      break\n",
        "  print(f\"numero de comparaciones realizadas = { contador }\")\n",
        "  return indice\n",
        "\n",
        "\"\"\"\n",
        "Busqueda binaria\n",
        "\n",
        "\"\"\"\n",
        "\n",
        "def busqueda_binaria ( L , buscado ):\n",
        "  IZQ = 0\n",
        "  DER = len(L) - 1\n",
        "  MID = int( ( IZQ + DER ) / 2)\n",
        "  if len(L) % 2 == 0:\n",
        "    MID = ( DER // 2 ) + 1\n",
        "  else:\n",
        "    MID = DER // 2\n",
        "  \n",
        "  while (L[MID ] != buscado ):\n",
        "    if L[MID] > buscado:\n",
        "      DER = MID\n",
        "    else:\n",
        "      IZQ = MID\n",
        "    if (DER - IZQ) % 2 == 0:\n",
        "      MID = (IZQ +((DER-IZQ) // 2)) + 1\n",
        "    else:\n",
        "      MID = IZQ + ((DER - IZQ) // 2)\n",
        "  return MID\n",
        "\n",
        "\n",
        "\n",
        "def main():\n",
        "  #Lista Desordenada\n",
        "\n",
        "  datos = [ 4, 18, 47, 2, 34, 14, 78, 12, 48, 21, 31, 19, 1, 3, 5]\n",
        "  dato = int(input(\"Que valor deseas buscar?\"))\n",
        "  resultado = busqueda_lineal( datos , dato )\n",
        "  print(\"Resultado:\", resultado)\n",
        "  print(\"Busqueda lineal en una lista ordenada\")\n",
        "\n",
        "  #Lista Ordenada\n",
        "\n",
        "  datos.sort()\n",
        "  print(datos)\n",
        "  resultado = busqueda_lineal( datos , dato )\n",
        "  print(\"Resultado:\", resultado)\n",
        "\n",
        "  #Busqueda Binaria\n",
        "  posicion = busqueda_binaria(datos, dato)\n",
        "  print(f\"El elemento {dato} esta en la posicion {posicion} de la lista\")\n",
        "\n",
        "main()\n",
        "\n",
        "\n"
      ],
      "execution_count": 3,
      "outputs": [
        {
          "output_type": "stream",
          "text": [
            "Que valor deseas buscar?3\n",
            "numero de comparaciones realizadas = 14\n",
            "Resultado: 13\n",
            "Busqueda lineal en una lista ordenada\n",
            "[1, 2, 3, 4, 5, 12, 14, 18, 19, 21, 31, 34, 47, 48, 78]\n",
            "numero de comparaciones realizadas = 3\n",
            "Resultado: 2\n"
          ],
          "name": "stdout"
        }
      ]
    }
  ]
}
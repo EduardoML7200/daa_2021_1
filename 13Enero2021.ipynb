{
  "nbformat": 4,
  "nbformat_minor": 0,
  "metadata": {
    "colab": {
      "name": "13Enero2021.ipynb",
      "provenance": [],
      "authorship_tag": "ABX9TyPDmeuTWV/PxXGysKZN8E2g",
      "include_colab_link": true
    },
    "kernelspec": {
      "name": "python3",
      "display_name": "Python 3"
    }
  },
  "cells": [
    {
      "cell_type": "markdown",
      "metadata": {
        "id": "view-in-github",
        "colab_type": "text"
      },
      "source": [
        "<a href=\"https://colab.research.google.com/github/EduardoML7200/daa_2021_1/blob/master/13Enero2021.ipynb\" target=\"_parent\"><img src=\"https://colab.research.google.com/assets/colab-badge.svg\" alt=\"Open In Colab\"/></a>"
      ]
    },
    {
      "cell_type": "code",
      "metadata": {
        "id": "pFOCX7fVMFkT"
      },
      "source": [
        "class NodoArbol:\r\n",
        "  def __init__( self , dato , left = None , right = None ):\r\n",
        "    self.data = dato\r\n",
        "    self.left = left\r\n",
        "    self.right = right\r\n"
      ],
      "execution_count": 6,
      "outputs": []
    },
    {
      "cell_type": "markdown",
      "metadata": {
        "id": "qrX8jUBgMSeH"
      },
      "source": [
        "#Árbol Binario de búsqueda\r\n",
        "Los nodos a la izquierda son menores a la raiz y los nodos a la derecha son mayores a la raiz.\r\n",
        "Pueden ser recorridos en: pre-orden, in-orden y post-orden."
      ]
    },
    {
      "cell_type": "code",
      "metadata": {
        "id": "aHO6x5yOSls8"
      },
      "source": [
        "class BinarySearchTree:\r\n",
        "  def __init__( self ):\r\n",
        "    self.__root = None\r\n",
        "  \r\n",
        "  def insert( self , value ):\r\n",
        "    if self.__root == None:\r\n",
        "      self.__root = NodoArbol( value , None , None )\r\n",
        "    else:\r\n",
        "      self.__insert_nodo__( self.__root , value )\r\n",
        "  \r\n",
        "  def __insert_nodo__( self , nodo , value ):\r\n",
        "    if nodo.data == value:\r\n",
        "      pass\r\n",
        "    elif value < nodo.data: #True va a la IZQ\r\n",
        "      if nodo.left == None: #Si hay espacio en la IZQ, ahí va\r\n",
        "        nodo.left = NodoArbol( value , None , None ) #Insertamos nodo derecha\r\n",
        "      else:\r\n",
        "        self.__insert_nodo__( nodo.left , value ) #Buscar en su arbol IZQ\r\n",
        "    else:\r\n",
        "      if nodo.right == None:\r\n",
        "        nodo.right = NodoArbol( value , None , None )\r\n",
        "      else: \r\n",
        "        self.__insert_nodo__( nodo.right , value ) #Buscar en sub arbol derecho\r\n"
      ],
      "execution_count": 7,
      "outputs": []
    },
    {
      "cell_type": "code",
      "metadata": {
        "id": "OD7US6svVd7D"
      },
      "source": [
        "bst = BinarySearchTree()\r\n",
        "bst.insert( 50 )\r\n",
        "bst.insert( 30 )\r\n",
        "bst.insert( 20 )"
      ],
      "execution_count": 8,
      "outputs": []
    }
  ]
}
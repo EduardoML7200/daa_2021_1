{
  "nbformat": 4,
  "nbformat_minor": 0,
  "metadata": {
    "colab": {
      "name": "02Octubre.ipynb",
      "provenance": [],
      "collapsed_sections": [],
      "toc_visible": true,
      "authorship_tag": "ABX9TyPKepyGfYoV5KsI/P0KtTLb",
      "include_colab_link": true
    },
    "kernelspec": {
      "name": "python3",
      "display_name": "Python 3"
    }
  },
  "cells": [
    {
      "cell_type": "markdown",
      "metadata": {
        "id": "view-in-github",
        "colab_type": "text"
      },
      "source": [
        "<a href=\"https://colab.research.google.com/github/EduardoML7200/daa_2021_1/blob/master/02Octubre.ipynb\" target=\"_parent\"><img src=\"https://colab.research.google.com/assets/colab-badge.svg\" alt=\"Open In Colab\"/></a>"
      ]
    },
    {
      "cell_type": "markdown",
      "metadata": {
        "id": "ejoTP_EXh6Ad"
      },
      "source": [
        "## Meteorología en México\n",
        "En Sistema meteorológico nacional lleva el registro de la lluvias desde el año 1985 y lo pone a disposición de la población por medio de la pagina datos.gob.mx.\n",
        "\n",
        "En la siguiente liga se encuentran 2  archivos separados por comas CSV correspondientes a los registros de lluvias\n",
        "mensuales y anuales de los años 2017 y 2018. En los columnas se encuentran 13,  correspondientes al promedio mensual y el promedio anual.\n",
        "En los renglones se encuentran 33, correspondientes a cada uno de los 32 estados y a nivel nacional.\n",
        "\n",
        "https://drive.google.com/file/d/1lamkxgq2AsXRu81Y4JTNXLVld4og7nxt/view?usp=sharing\n",
        "\n",
        "\n",
        "## Planteamiento del problema\n",
        "Diseñar un algoritmo y programarlo para que:\n",
        "1. Solicite por teclado el año, el estado y el mes, en base a esa información:\n",
        "- muestre en pantalla el promedio de ese mes en ese estado en el año seleccionado.\n",
        "- muestre en pantalla el promedio anual del  estado seleccionado.\n",
        "- muestre la suma de los 12 meses de ese estado en el año seleccionado\n",
        "2. Busque el mes que mas llovió en todos los estados durante esos dos años. Imprimir año, estado y mes.\n",
        "3. Busque el mes que menos llovió en los dos. Imprimir año, estado y mes.\n"
      ]
    },
    {
      "cell_type": "code",
      "metadata": {
        "id": "_7X770--ZnUX",
        "outputId": "54a6de51-b29f-40cf-ed66-040adc16ae41",
        "colab": {
          "base_uri": "https://localhost:8080/",
          "height": 991
        }
      },
      "source": [
        "import xlrd\n",
        "\n",
        "\n",
        "anio = input(\"Ingresa el anio que deseas evaluar:\\n\")\n",
        "direccion = anio + \"Precip.xlsx\"\n",
        "abrirArchivo = xlrd.open_workbook(direccion)\n",
        "hoja = abrirArchivo.sheet_by_name(anio + \"Precip\")\n",
        "suma = 0\n",
        "\n",
        "for i in range(2,hoja.nrows):\n",
        "\tprint(i-1, hoja.cell_value(i,0))\n",
        "\n",
        "estado = int(input(\"\\nIngresa el numero de estado:\\n\"))\n",
        "\n",
        "for i in range(1,hoja.ncols):\n",
        "\tprint( i , hoja.cell_value(1,i))\n",
        "\n",
        "mes = int(input(\"\\nIngresa el numero de mes:\\n\"))\n",
        "\n",
        "\n",
        "print(\"El promedio del mes \", hoja.cell_value(1,mes), \"en el anio\", anio, \"del estado\", hoja.cell_value(estado+1,0), \"es:\\n\", hoja.cell_value(estado+1,mes))\n",
        "print(\"El promedio anual es: \", hoja.cell_value(estado+1,13))\n",
        "\n",
        "for i in range(estado+1, hoja.ncols - 1):\n",
        "\tsuma += hoja.cell_value(estado + 1 , i)\n",
        "\n",
        "print(\"La suma de los 12 meses es: \", suma)"
      ],
      "execution_count": 2,
      "outputs": [
        {
          "output_type": "stream",
          "text": [
            "Ingresa el anio que deseas evaluar:\n",
            "2017\n",
            "1 AGUASCALIENTES\n",
            "2 BAJA CALIFORNIA\n",
            "3 BAJA CALIFORNIA SUR\n",
            "4 CAMPECHE\n",
            "5 COAHUILA\n",
            "6 COLIMA\n",
            "7 CHIAPAS\n",
            "8 CHIHUAHUA\n",
            "9 DISTRITO FEDERAL\n",
            "10 DURANGO\n",
            "11 GUANAJUATO\n",
            "12 GUERRERO\n",
            "13 HIDALGO\n",
            "14 JALISCO\n",
            "15 ESTADO DE MƒXICO\n",
            "16 MICHOACçN\n",
            "17 MORELOS\n",
            "18 NAYARIT\n",
            "19 NUEVO LEîN\n",
            "20 OAXACA\n",
            "21 PUEBLA\n",
            "22 QUERƒTARO\n",
            "23 QUINTANA ROO\n",
            "24 SAN LUIS POTOSê\n",
            "25 SINALOA\n",
            "26 SONORA\n",
            "27 TABASCO\n",
            "28 TAMAULIPAS\n",
            "29 TLAXCALA\n",
            "30 VERACRUZ\n",
            "31 YUCATçN\n",
            "32 ZACATECAS\n",
            "33 NACIONAL\n",
            "\n",
            "Ingresa el numero de estado:\n",
            "1\n",
            "1 ENE\n",
            "2 FEB\n",
            "3 MAR\n",
            "4 ABR\n",
            "5 MAY\n",
            "6 JUN\n",
            "7 JUL\n",
            "8 AGO\n",
            "9 SEP\n",
            "10 OCT\n",
            "11 NOV\n",
            "12 DIC\n",
            "13 ANUAL\n",
            "\n",
            "Ingresa el numero de mes:\n",
            "1\n",
            "El promedio del mes  ENE en el anio 2017 del estado AGUASCALIENTES es:\n",
            " 0.4\n",
            "El promedio anual es:  579.4\n",
            "La suma de los 12 meses es:  579.0\n"
          ],
          "name": "stdout"
        }
      ]
    }
  ]
}
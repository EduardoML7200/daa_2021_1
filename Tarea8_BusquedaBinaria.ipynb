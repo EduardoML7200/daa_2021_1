{
  "nbformat": 4,
  "nbformat_minor": 0,
  "metadata": {
    "colab": {
      "name": "Tarea8_BusquedaBinaria.ipynb",
      "provenance": [],
      "authorship_tag": "ABX9TyM64ubQywCOL7nBZXjgdaMD",
      "include_colab_link": true
    },
    "kernelspec": {
      "name": "python3",
      "display_name": "Python 3"
    }
  },
  "cells": [
    {
      "cell_type": "markdown",
      "metadata": {
        "id": "view-in-github",
        "colab_type": "text"
      },
      "source": [
        "<a href=\"https://colab.research.google.com/github/EduardoML7200/daa_2021_1/blob/master/Tarea8_BusquedaBinaria.ipynb\" target=\"_parent\"><img src=\"https://colab.research.google.com/assets/colab-badge.svg\" alt=\"Open In Colab\"/></a>"
      ]
    },
    {
      "cell_type": "markdown",
      "metadata": {
        "id": "coT2cD-5heCV"
      },
      "source": [
        "\n",
        "## Planteamiento del problema:\n",
        "El siguiente código se puede considerar la simulación de una pequeña base de datos de alumnos, se encuentra implementado con diccionarios dentro de una lista python.\n",
        "\n",
        "Se puede observar que los alumnos estan ordenados por la llave 'id'.\n",
        "\n",
        "El objetivo de la tarea es realizar busquedas empleando el algoritmo de Búsqueda binaria recursiva.\n",
        "\n",
        "El programa debe solicitar el id a buscar. Posteriormente debe buscar(en la lista bd) el alumno en la base de datos y de existir, mostrará la información completa del alumno como en el siguiente,\n",
        "\n",
        "## ejemplo 1:\n",
        "¿Dame el id del alumno a buscar?: 16\n",
        "\n",
        "Resultado: Diana estudia la carrera DER y tiene un promedio de 9.9\n",
        "\n",
        "## ejemplo 2:\n",
        "¿Dame el id del alumno a buscar?: 15\n",
        "\n",
        "Resultado: El alumno no existe en la base de datos."
      ]
    },
    {
      "cell_type": "code",
      "metadata": {
        "colab": {
          "base_uri": "https://localhost:8080/"
        },
        "id": "phtms7Z1hpFT",
        "outputId": "2c4a1158-6ac7-4073-c59e-e28ba6e71568"
      },
      "source": [
        "def busquedaBinariaRec( lista , valorBuscado , izquierda , derecha ):\n",
        "  medio = ( izquierda + derecha ) // 2 \n",
        "  if izquierda >= derecha:\n",
        "    return print(\"El alumno no existe en la base de datos\")\n",
        "  if lista[medio][\"id\"] == valorBuscado:\n",
        "    return print(lista[medio][\"nombre\"] , \"estudia la carrera\", lista[medio][\"carrera\"], \"y tiene un promedio de\", lista[medio][\"promedio\"])\n",
        "  elif lista[medio][\"id\"] < valorBuscado:\n",
        "    return busquedaBinariaRec( lista , valorBuscado , medio + 1 , derecha )\n",
        "  else:\n",
        "    return busquedaBinariaRec( lista , valorBuscado , izquierda , medio)\n",
        "\n",
        "def main():\n",
        "\n",
        "  alumno1={'id':2, 'nombre':\"Juan\" , 'carrera':\"ICO\", 'promedio':7.67}\n",
        "  alumno2={'id':4, 'nombre':\"Rocio\" , 'carrera':\"ICI\", 'promedio':8.67}\n",
        "  alumno3={'id':5, 'nombre':\"Diego\" , 'carrera':\"DER\", 'promedio':8.98}\n",
        "  alumno4={'id':7, 'nombre':\"May\" , 'carrera':\"ICI\", 'promedio':9.87}\n",
        "  alumno5={'id':9, 'nombre':\"Rob\" , 'carrera':\"IME\", 'promedio':10.00}\n",
        "  alumno6={'id':10, 'nombre':\"Santi\" , 'carrera':\"ICO\", 'promedio':5.37}\n",
        "  alumno7={'id':14, 'nombre':\"Moy\" , 'carrera':\"IME\", 'promedio':6.85}\n",
        "  alumno8={'id':16, 'nombre':\"Diana\" , 'carrera':\"DER\", 'promedio':9.99}\n",
        "  alumno9={'id':19, 'nombre':\"Zoila\" , 'carrera':\"ICO\", 'promedio':8.22}\n",
        "  alumno10={'id':22, 'nombre':\"Armando\" , 'carrera':\"ICO\", 'promedio':7.32}\n",
        "\n",
        "  bd = []\n",
        "  bd.append(alumno1)\n",
        "  bd.append(alumno2)\n",
        "  bd.append(alumno3)\n",
        "  bd.append(alumno4)\n",
        "  bd.append(alumno5)\n",
        "  bd.append(alumno6)\n",
        "  bd.append(alumno7)\n",
        "  bd.append(alumno8)\n",
        "  bd.append(alumno9)\n",
        "  bd.append(alumno10)\n",
        "  #Ejemplo 1\n",
        "  valorBuscado = int(input(\"Ingresa el id del alumno a buscar: \\n\"))\n",
        "  busquedaBinariaRec( bd , valorBuscado , 0 , len(bd))\n",
        "  #Ejemplo 2\n",
        "  valorBuscado = int(input(\"Ingresa el id del alumno a buscar: \\n\"))\n",
        "  busquedaBinariaRec( bd , valorBuscado , 0 , len(bd))\n",
        "\n",
        "main()\n",
        "\n",
        "\n",
        "    \n",
        "\n"
      ],
      "execution_count": 20,
      "outputs": [
        {
          "output_type": "stream",
          "text": [
            "Ingresa el id del alumno a buscar: \n",
            "16\n",
            "Diana estudia la carrera DER y tiene un promedio de 9.99\n",
            "Ingresa el id del alumno a buscar: \n",
            "15\n",
            "El alumno no existe en la base de datos\n"
          ],
          "name": "stdout"
        }
      ]
    }
  ]
}
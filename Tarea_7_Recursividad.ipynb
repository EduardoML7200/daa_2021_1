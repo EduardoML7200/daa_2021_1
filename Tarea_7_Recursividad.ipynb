{
  "nbformat": 4,
  "nbformat_minor": 0,
  "metadata": {
    "colab": {
      "name": "Tarea 7_Recursividad.ipynb",
      "provenance": [],
      "collapsed_sections": [],
      "authorship_tag": "ABX9TyOIH/a6Cnc9ISXfJ2raGGoE",
      "include_colab_link": true
    },
    "kernelspec": {
      "name": "python3",
      "display_name": "Python 3"
    }
  },
  "cells": [
    {
      "cell_type": "markdown",
      "metadata": {
        "id": "view-in-github",
        "colab_type": "text"
      },
      "source": [
        "<a href=\"https://colab.research.google.com/github/EduardoML7200/daa_2021_1/blob/master/Tarea_7_Recursividad.ipynb\" target=\"_parent\"><img src=\"https://colab.research.google.com/assets/colab-badge.svg\" alt=\"Open In Colab\"/></a>"
      ]
    },
    {
      "cell_type": "code",
      "metadata": {
        "id": "aQw7ZWqB1xx_",
        "colab": {
          "base_uri": "https://localhost:8080/"
        },
        "outputId": "7c938706-6cf5-4eb2-cbd5-4ce0bc5fcb5f"
      },
      "source": [
        "#1. Crear una lista de enteros en Python y realizar la suma con recursividad, el caso base es cuando la lista este vacía.\n",
        "def sumRec (lista):\n",
        "  if lista == []:\n",
        "    suma = 0\n",
        "  else:\n",
        "    suma = lista[0] + sumRec(lista[1:])\n",
        "  return suma\n",
        "\n",
        "def main():\n",
        "  lista_int = [1,2,3,4,5,6,7,8,9]\n",
        "  print(\"La suma de la lista es:\",sumRec(lista_int))\n",
        "main()"
      ],
      "execution_count": null,
      "outputs": [
        {
          "output_type": "stream",
          "text": [
            "La suma de la lista es: 45\n"
          ],
          "name": "stdout"
        }
      ]
    },
    {
      "cell_type": "code",
      "metadata": {
        "colab": {
          "base_uri": "https://localhost:8080/"
        },
        "id": "ux8FsU9__yuw",
        "outputId": "682b50d4-1a37-44a9-ff36-0b1cb7683499"
      },
      "source": [
        "#2. Hacer un contador regresivo con recursión\n",
        "\n",
        "def regresivo(x):\n",
        "  if x >= 0:\n",
        "    print(x)\n",
        "    regresivo(x - 1)\n",
        "\n",
        "def main():\n",
        "\n",
        "  regresivo(10)\n",
        "\n",
        "main()"
      ],
      "execution_count": null,
      "outputs": [
        {
          "output_type": "stream",
          "text": [
            "10\n",
            "9\n",
            "8\n",
            "7\n",
            "6\n",
            "5\n",
            "4\n",
            "3\n",
            "2\n",
            "1\n",
            "0\n"
          ],
          "name": "stdout"
        }
      ]
    },
    {
      "cell_type": "code",
      "metadata": {
        "id": "7a8I2bfa_3zu",
        "colab": {
          "base_uri": "https://localhost:8080/"
        },
        "outputId": "e9f91710-59d7-4727-f2ad-06191b516ea2"
      },
      "source": [
        "#3. Sacar de un ADT pila el valor en la posición media.\n",
        "\n",
        "#En esta parte le quitamos los valores de la pila hasta que las dos pilas sean iguales o tengan de diferencia 1\n",
        "def medRec(pila,pila2):\n",
        "  if (len(pila) - len(pila2)) <= 1:\n",
        "    pila.pop()\n",
        "    regresaPila(pila , pila2)\n",
        "  else:\n",
        "    pila2.append(pila.pop())\n",
        "    medRec(pila,pila2)\n",
        "    \n",
        "#Regresamos los valores que quitamos de la pila\n",
        "def regresaPila(pila, pila2):\n",
        "  if pila2 == []:\n",
        "    print(pila)\n",
        "  else:\n",
        "    pila.append(pila2.pop())\n",
        "    regresaPila(pila, pila2)\n",
        "\n",
        "def main():\n",
        "  pila = [1,2,3,4,5,6,7,8,9]\n",
        "  pila2 = []\n",
        "  print(\"La pila 1 es: \", pila)\n",
        "  print(\"Despues eliminamos el valor que se encuentra en medio de la pila\")\n",
        "  medRec(pila,pila2)\n",
        "main()"
      ],
      "execution_count": 18,
      "outputs": [
        {
          "output_type": "stream",
          "text": [
            "La pila 1 es:  [1, 2, 3, 4, 5, 6, 7, 8, 9]\n",
            "Despues eliminamos el valor que se encuentra en medio de la pila\n",
            "[1, 2, 3, 4, 6, 7, 8, 9]\n"
          ],
          "name": "stdout"
        }
      ]
    }
  ]
}
{
  "nbformat": 4,
  "nbformat_minor": 0,
  "metadata": {
    "colab": {
      "name": "Tarea11.ipynb",
      "provenance": [],
      "authorship_tag": "ABX9TyMT5qNuEhFSDorG1hjpn8zl",
      "include_colab_link": true
    },
    "kernelspec": {
      "name": "python3",
      "display_name": "Python 3"
    }
  },
  "cells": [
    {
      "cell_type": "markdown",
      "metadata": {
        "id": "view-in-github",
        "colab_type": "text"
      },
      "source": [
        "<a href=\"https://colab.research.google.com/github/EduardoML7200/daa_2021_1/blob/master/Tarea11.ipynb\" target=\"_parent\"><img src=\"https://colab.research.google.com/assets/colab-badge.svg\" alt=\"Open In Colab\"/></a>"
      ]
    },
    {
      "cell_type": "code",
      "metadata": {
        "id": "CvJG7vBciCyB"
      },
      "source": [
        "class NodoArbol:\r\n",
        "  def __init__( self , dato , left = None , right = None ):\r\n",
        "    self.data = dato\r\n",
        "    self.left = left\r\n",
        "    self.right = right\r\n"
      ],
      "execution_count": 3,
      "outputs": []
    },
    {
      "cell_type": "code",
      "metadata": {
        "id": "DseowEMyiVWw"
      },
      "source": [
        "class BinarySearchTree:\r\n",
        "  def __init__( self ):\r\n",
        "    self.__root = None\r\n",
        "  \r\n",
        "  def insert( self , value ):\r\n",
        "    if self.__root == None:\r\n",
        "      self.__root = NodoArbol( value , None , None )\r\n",
        "    else:\r\n",
        "      self.__insert_nodo__( self.__root , value )\r\n",
        "  \r\n",
        "  def __insert_nodo__( self , nodo , value ):\r\n",
        "    if nodo.data == value:\r\n",
        "      pass\r\n",
        "    elif value < nodo.data: #True va a la IZQ\r\n",
        "      if nodo.left == None: #Si hay espacio en la IZQ, ahí va\r\n",
        "        nodo.left = NodoArbol( value , None , None ) #Insertamos nodo derecha\r\n",
        "      else:\r\n",
        "        self.__insert_nodo__( nodo.left , value ) #Buscar en su arbol IZQ\r\n",
        "    else:\r\n",
        "      if nodo.right == None:\r\n",
        "        nodo.right = NodoArbol( value , None , None )\r\n",
        "      else: \r\n",
        "        self.__insert_nodo__( nodo.right , value ) #Buscar en sub arbol derecho\r\n",
        "\r\n",
        "  def buscar( self , value ):\r\n",
        "    if self.__root == None:\r\n",
        "      return None\r\n",
        "    else:\r\n",
        "      #Haremos busqueda recursiva\r\n",
        "      return self.__busca_nodo( self.__root , value )\r\n",
        "\r\n",
        "  def __busca_nodo( self , nodo , value ):\r\n",
        "    if nodo == None:\r\n",
        "      return None\r\n",
        "    elif nodo.data == value:\r\n",
        "      return nodo.data\r\n",
        "    elif value < nodo.data:\r\n",
        "      return self.__busca_nodo( nodo.left , value )\r\n",
        "    else:\r\n",
        "      return self.__busca_nodo( nodo.right , value )\r\n",
        "  \r\n",
        "  def transversal( self , format = \"inOrden\"):\r\n",
        "    if format == \"inOrden\":\r\n",
        "      self.__recorrido_in( self.__root )\r\n",
        "    elif format == \"preOrden\":\r\n",
        "      self.__recorrido_pre( self.__root)\r\n",
        "    elif format == \"posOrden\":\r\n",
        "      self.__recorrido_pos( self.__root )\r\n",
        "    else:\r\n",
        "      print(\"Fomato de recorrido no válido\")\r\n",
        "    \r\n",
        "  def __recorrido_pre( self , nodo ):\r\n",
        "    if nodo != None:\r\n",
        "      print( nodo.data , end = \",\")\r\n",
        "      self.__recorrido_pre( nodo.left )\r\n",
        "      self.__recorrido_pre( nodo.right )\r\n",
        "  \r\n",
        "  def __recorrido_in( self , nodo ):\r\n",
        "    if nodo != None:\r\n",
        "      self.__recorrido_in( nodo.left )\r\n",
        "      print( nodo.data , end = \",\")\r\n",
        "      self.__recorrido_in( nodo.right )\r\n",
        "\r\n",
        "  def __recorrido_pos( self , nodo ):\r\n",
        "    if nodo != None:\r\n",
        "      self.__recorrido_pos( nodo.left )\r\n",
        "      self.__recorrido_pos( nodo.right )\r\n",
        "      print( nodo.data , end = \",\")\r\n",
        "    \r\n",
        "  def delete(self,value):\r\n",
        "    if self.__root == None:\r\n",
        "      return False\r\n",
        "    else:\r\n",
        "      #Haremos busqueda recursiva\r\n",
        "      return self.__elimina_nodo(self.__root,value)\r\n",
        "\r\n",
        "  def __elimina_nodo(self,nodo,value):\r\n",
        "    if nodo == None:\r\n",
        "      return None\r\n",
        "    elif nodo.data == value:\r\n",
        "      if nodo.right == None and nodo.left == None:\r\n",
        "        nodo.data = None\r\n",
        "\r\n",
        "      if nodo.right == None and nodo.left != None:\r\n",
        "        nodo.data = nodo.left.data\r\n",
        "        nodo.left.data = None\r\n",
        "\r\n",
        "      if nodo.right != None and nodo.left == None:\r\n",
        "        nodo.data = nodo.rigth.data\r\n",
        "        nodo.right.data = None\r\n",
        "\r\n",
        "      if nodo.right != None and nodo.left != None:\r\n",
        "        nodo.data = self.__buscar_menor(nodo)\r\n",
        "\r\n",
        "    elif value < nodo.data:\r\n",
        "      return self.__elimina_nodo(nodo.left,value)\r\n",
        "    else:\r\n",
        "      return self.__elimina_nodo(nodo.right,value)\r\n",
        "      \r\n",
        "  def __buscar_menor(self,nodo):\r\n",
        "    if nodo != None:\r\n",
        "      aux = nodo.right\r\n",
        "      while aux.left != None:\r\n",
        "        aux = aux.left\r\n",
        "      menor = aux.data\r\n",
        "      aux.data = None\r\n",
        "      return menor"
      ],
      "execution_count": 10,
      "outputs": []
    },
    {
      "cell_type": "code",
      "metadata": {
        "colab": {
          "base_uri": "https://localhost:8080/"
        },
        "id": "ZMTQ1Y5Zjgsd",
        "outputId": "43266808-df63-4a41-c359-a55c5b57c94c"
      },
      "source": [
        "arbol = BinarySearchTree()\r\n",
        "arbol.insert( 50 )\r\n",
        "arbol.insert( 40 )\r\n",
        "arbol.insert( 20 )\r\n",
        "arbol.insert( 45 )\r\n",
        "arbol.insert( 80 )\r\n",
        "arbol.insert( 60 )\r\n",
        "arbol.insert( 90 )\r\n",
        "arbol.insert( 85 )\r\n",
        "arbol.insert( 100 )\r\n",
        "arbol.insert( 95 )\r\n",
        "\r\n",
        "arbol.transversal(\"posOrden\")\r\n",
        "\r\n",
        "arbol.delete( 95 )\r\n",
        "print()\r\n",
        "print(\"\\nBorramos el 95\")\r\n",
        "arbol.transversal(\"posOrden\")"
      ],
      "execution_count": 17,
      "outputs": [
        {
          "output_type": "stream",
          "text": [
            "20,45,40,60,85,95,100,90,80,50,\n",
            "\n",
            "Borramos el 95\n",
            "20,45,40,60,85,None,100,90,80,50,"
          ],
          "name": "stdout"
        }
      ]
    }
  ]
}
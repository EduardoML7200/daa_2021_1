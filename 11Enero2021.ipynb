{
  "nbformat": 4,
  "nbformat_minor": 0,
  "metadata": {
    "colab": {
      "name": "11Enero2021.ipynb",
      "provenance": [],
      "authorship_tag": "ABX9TyNyXHy7vV+oyoED6IaBhD4k",
      "include_colab_link": true
    },
    "kernelspec": {
      "name": "python3",
      "display_name": "Python 3"
    }
  },
  "cells": [
    {
      "cell_type": "markdown",
      "metadata": {
        "id": "view-in-github",
        "colab_type": "text"
      },
      "source": [
        "<a href=\"https://colab.research.google.com/github/EduardoML7200/daa_2021_1/blob/master/11Enero2021.ipynb\" target=\"_parent\"><img src=\"https://colab.research.google.com/assets/colab-badge.svg\" alt=\"Open In Colab\"/></a>"
      ]
    },
    {
      "cell_type": "code",
      "metadata": {
        "id": "alSDDFEY5OxW"
      },
      "source": [
        "class NodoArbol:\r\n",
        "  def __init__( self , value , left = None , right = None ):\r\n",
        "    self.data = value\r\n",
        "    self.left = left\r\n",
        "    self.right = right"
      ],
      "execution_count": 1,
      "outputs": []
    },
    {
      "cell_type": "code",
      "metadata": {
        "id": "qYo0Hyw58pRa"
      },
      "source": [
        "arbol = NodoArbol(\"R\", NodoArbol(\"C\") , NodoArbol(\"H\") )"
      ],
      "execution_count": 2,
      "outputs": []
    },
    {
      "cell_type": "code",
      "metadata": {
        "id": "cudPi1T3-IBv"
      },
      "source": [
        "nodo1 = NodoArbol(\"C\")\r\n",
        "nodo2 = NodoArbol(\"H\")\r\n",
        "arbol_v2 = NodoArbol( \"R\" , nodo1 , nodo2)"
      ],
      "execution_count": 6,
      "outputs": []
    },
    {
      "cell_type": "code",
      "metadata": {
        "colab": {
          "base_uri": "https://localhost:8080/"
        },
        "id": "KMZBbqO2-cWC",
        "outputId": "4966ab67-9afc-4daa-b1b5-f85316276f77"
      },
      "source": [
        "print(arbol.right.data)\r\n",
        "print(arbol_v2.right.data)"
      ],
      "execution_count": 7,
      "outputs": [
        {
          "output_type": "stream",
          "text": [
            "H\n",
            "H\n"
          ],
          "name": "stdout"
        }
      ]
    },
    {
      "cell_type": "code",
      "metadata": {
        "colab": {
          "base_uri": "https://localhost:8080/"
        },
        "id": "-3mB1jg4-9Y6",
        "outputId": "ccd305e3-0a3f-4e09-cc86-6b2b2a8bf55a"
      },
      "source": [
        "arbol2 = NodoArbol( 4 , NodoArbol( 3 , NodoArbol( 2 , NodoArbol( 2 ))) , NodoArbol( 5 ))\r\n",
        "print(arbol2.left.left.left.data)\r\n",
        "\r\n",
        "aux = arbol2\r\n",
        "while aux.left != None:\r\n",
        "  aux = aux.left\r\n",
        "print(aux.data)"
      ],
      "execution_count": 13,
      "outputs": [
        {
          "output_type": "stream",
          "text": [
            "2\n",
            "2\n"
          ],
          "name": "stdout"
        }
      ]
    },
    {
      "cell_type": "code",
      "metadata": {
        "id": "bj2wkH6mAV9Z"
      },
      "source": [
        "arbol3 = NodoArbol( \"Santi\" , NodoArbol( \"Jesús\" , None , NodoArbol( \"Pedro\" , None , NodoArbol( \"Diana\" ))), None )"
      ],
      "execution_count": 17,
      "outputs": []
    }
  ]
}
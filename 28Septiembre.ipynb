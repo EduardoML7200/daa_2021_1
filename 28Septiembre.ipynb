{
  "nbformat": 4,
  "nbformat_minor": 0,
  "metadata": {
    "colab": {
      "name": "28Septiembre.ipynb",
      "provenance": [],
      "authorship_tag": "ABX9TyPGzOEEZjWPC86IHtTzfHJx",
      "include_colab_link": true
    },
    "kernelspec": {
      "name": "python3",
      "display_name": "Python 3"
    }
  },
  "cells": [
    {
      "cell_type": "markdown",
      "metadata": {
        "id": "view-in-github",
        "colab_type": "text"
      },
      "source": [
        "<a href=\"https://colab.research.google.com/github/EduardoML7200/daa_2021_1/blob/master/28Septiembre.ipynb\" target=\"_parent\"><img src=\"https://colab.research.google.com/assets/colab-badge.svg\" alt=\"Open In Colab\"/></a>"
      ]
    },
    {
      "cell_type": "code",
      "metadata": {
        "id": "m9xHkZ3kCelz"
      },
      "source": [
        "  "
      ],
      "execution_count": null,
      "outputs": []
    },
    {
      "cell_type": "markdown",
      "metadata": {
        "id": "AhpJSjeeCreG"
      },
      "source": [
        "# Sección 1\n"
      ]
    },
    {
      "cell_type": "markdown",
      "metadata": {
        "id": "Vg_ViHe-DDD8"
      },
      "source": [
        "En este archivo aprenderemos a programar en Python con la herramienta de Google colab.research\n",
        "Tambien aprenderemos a guardar nuestros cambios en github.\n"
      ]
    },
    {
      "cell_type": "markdown",
      "metadata": {
        "id": "1Bv1X-VtDXWb"
      },
      "source": [
        "## Código de ejemplo\n",
        "**negritas**\n",
        "_italicas_\n",
        " `edad = 10\n",
        " print(edad)\n",
        " `"
      ]
    },
    {
      "cell_type": "code",
      "metadata": {
        "id": "nKC15HjVGdjN",
        "outputId": "debb3e1f-caf6-46b3-cd97-261664c248c6",
        "colab": {
          "base_uri": "https://localhost:8080/",
          "height": 34
        }
      },
      "source": [
        "frutas = []\n",
        "frutas.append(\"Manzana\")\n",
        "frutas.append(\"Piña\")\n",
        "frutas.append(\"Kiwi\")\n",
        "print(frutas)"
      ],
      "execution_count": 1,
      "outputs": [
        {
          "output_type": "stream",
          "text": [
            "['Manzana', 'Piña', 'Kiwi']\n"
          ],
          "name": "stdout"
        }
      ]
    },
    {
      "cell_type": "code",
      "metadata": {
        "id": "bViFTRG7Hq-m"
      },
      "source": [
        "archivo = open(\"Prueba_daa.txt\" , \"wt\")\n",
        "archivo.write(\"Hola mundo Jupyter\")\n",
        "archivo.close()"
      ],
      "execution_count": 3,
      "outputs": []
    }
  ]
}
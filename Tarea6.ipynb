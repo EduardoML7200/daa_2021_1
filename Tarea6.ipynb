{
  "nbformat": 4,
  "nbformat_minor": 0,
  "metadata": {
    "colab": {
      "name": "Tarea6.ipynb",
      "provenance": [],
      "authorship_tag": "ABX9TyN9C4eKqWq1jqs5KSU/2feR",
      "include_colab_link": true
    },
    "kernelspec": {
      "name": "python3",
      "display_name": "Python 3"
    }
  },
  "cells": [
    {
      "cell_type": "markdown",
      "metadata": {
        "id": "view-in-github",
        "colab_type": "text"
      },
      "source": [
        "<a href=\"https://colab.research.google.com/github/EduardoML7200/daa_2021_1/blob/master/Tarea6.ipynb\" target=\"_parent\"><img src=\"https://colab.research.google.com/assets/colab-badge.svg\" alt=\"Open In Colab\"/></a>"
      ]
    },
    {
      "cell_type": "code",
      "metadata": {
        "colab": {
          "base_uri": "https://localhost:8080/"
        },
        "id": "DsItmYpw3DN1",
        "outputId": "7c8b5274-9ec6-4cd1-e30a-6bae1fe4b4f8"
      },
      "source": [
        "texto = \"El lema que anima a la Universidad Nacional, Por mi raza hablará el espíritu, revela la vocación humanística con la que fue concebida. El autor de esta célebre frase, José Vasconcelos, asumió la rectoría en 1920, en una época en que las esperanzas de la Revolución aún estaban vivas, había una gran fé en la Patria y el ánimo redentor se extendía en el ambiente.\"\n",
        "textoNormalizado = \"\"\n",
        "print(texto)\n",
        "#Normalizando el texto\n",
        "\n",
        "#Minusculas:\n",
        "texto = texto.lower()\n",
        "print(texto)\n",
        "#Quitando signos\n",
        "for i in texto:\n",
        "  if i != \",\" and i != \".\":\n",
        "    textoNormalizado += i\n",
        "print(textoNormalizado)\n",
        "#Frecuencia de aparicion\n",
        "print(\"Frecuencia de aparicion\")\n",
        "listaPalabras = textoNormalizado.split()\n",
        "contador = 0 \n",
        "for i in listaPalabras:\n",
        "  contador = 0\n",
        "  for j in listaPalabras:\n",
        "    if i == j:\n",
        "      contador += 1\n",
        "  print(i+\":\"+ str(contador))\n"
      ],
      "execution_count": 21,
      "outputs": [
        {
          "output_type": "stream",
          "text": [
            "El lema que anima a la Universidad Nacional, Por mi raza hablará el espíritu, revela la vocación humanística con la que fue concebida. El autor de esta célebre frase, José Vasconcelos, asumió la rectoría en 1920, en una época en que las esperanzas de la Revolución aún estaban vivas, había una gran fé en la Patria y el ánimo redentor se extendía en el ambiente.\n",
            "el lema que anima a la universidad nacional, por mi raza hablará el espíritu, revela la vocación humanística con la que fue concebida. el autor de esta célebre frase, josé vasconcelos, asumió la rectoría en 1920, en una época en que las esperanzas de la revolución aún estaban vivas, había una gran fé en la patria y el ánimo redentor se extendía en el ambiente.\n",
            "el lema que anima a la universidad nacional por mi raza hablará el espíritu revela la vocación humanística con la que fue concebida el autor de esta célebre frase josé vasconcelos asumió la rectoría en 1920 en una época en que las esperanzas de la revolución aún estaban vivas había una gran fé en la patria y el ánimo redentor se extendía en el ambiente\n",
            "Frecuencia de aparicion\n",
            "el:5\n",
            "lema:1\n",
            "que:3\n",
            "anima:1\n",
            "a:1\n",
            "la:6\n",
            "universidad:1\n",
            "nacional:1\n",
            "por:1\n",
            "mi:1\n",
            "raza:1\n",
            "hablará:1\n",
            "el:5\n",
            "espíritu:1\n",
            "revela:1\n",
            "la:6\n",
            "vocación:1\n",
            "humanística:1\n",
            "con:1\n",
            "la:6\n",
            "que:3\n",
            "fue:1\n",
            "concebida:1\n",
            "el:5\n",
            "autor:1\n",
            "de:2\n",
            "esta:1\n",
            "célebre:1\n",
            "frase:1\n",
            "josé:1\n",
            "vasconcelos:1\n",
            "asumió:1\n",
            "la:6\n",
            "rectoría:1\n",
            "en:5\n",
            "1920:1\n",
            "en:5\n",
            "una:2\n",
            "época:1\n",
            "en:5\n",
            "que:3\n",
            "las:1\n",
            "esperanzas:1\n",
            "de:2\n",
            "la:6\n",
            "revolución:1\n",
            "aún:1\n",
            "estaban:1\n",
            "vivas:1\n",
            "había:1\n",
            "una:2\n",
            "gran:1\n",
            "fé:1\n",
            "en:5\n",
            "la:6\n",
            "patria:1\n",
            "y:1\n",
            "el:5\n",
            "ánimo:1\n",
            "redentor:1\n",
            "se:1\n",
            "extendía:1\n",
            "en:5\n",
            "el:5\n",
            "ambiente:1\n"
          ],
          "name": "stdout"
        }
      ]
    }
  ]
}
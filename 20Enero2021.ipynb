{
  "nbformat": 4,
  "nbformat_minor": 0,
  "metadata": {
    "colab": {
      "name": "13Enero2021.ipynb",
      "provenance": [],
      "authorship_tag": "ABX9TyOEr4jThh7SqWTj38TBZ7YI",
      "include_colab_link": true
    },
    "kernelspec": {
      "name": "python3",
      "display_name": "Python 3"
    }
  },
  "cells": [
    {
      "cell_type": "markdown",
      "metadata": {
        "id": "view-in-github",
        "colab_type": "text"
      },
      "source": [
        "<a href=\"https://colab.research.google.com/github/EduardoML7200/daa_2021_1/blob/master/20Enero2021.ipynb\" target=\"_parent\"><img src=\"https://colab.research.google.com/assets/colab-badge.svg\" alt=\"Open In Colab\"/></a>"
      ]
    },
    {
      "cell_type": "code",
      "metadata": {
        "id": "pFOCX7fVMFkT"
      },
      "source": [
        "class NodoArbol:\r\n",
        "  def __init__( self , dato , left = None , right = None ):\r\n",
        "    self.data = dato\r\n",
        "    self.left = left\r\n",
        "    self.right = right\r\n"
      ],
      "execution_count": 11,
      "outputs": []
    },
    {
      "cell_type": "markdown",
      "metadata": {
        "id": "qrX8jUBgMSeH"
      },
      "source": [
        "#Árbol Binario de búsqueda\r\n",
        "Los nodos a la izquierda son menores a la raiz y los nodos a la derecha son mayores a la raiz.\r\n",
        "Pueden ser recorridos en: pre-orden, in-orden y post-orden."
      ]
    },
    {
      "cell_type": "code",
      "metadata": {
        "id": "aHO6x5yOSls8"
      },
      "source": [
        "class BinarySearchTree:\r\n",
        "  def __init__( self ):\r\n",
        "    self.__root = None\r\n",
        "  \r\n",
        "  def insert( self , value ):\r\n",
        "    if self.__root == None:\r\n",
        "      self.__root = NodoArbol( value , None , None )\r\n",
        "    else:\r\n",
        "      self.__insert_nodo__( self.__root , value )\r\n",
        "  \r\n",
        "  def __insert_nodo__( self , nodo , value ):\r\n",
        "    if nodo.data == value:\r\n",
        "      pass\r\n",
        "    elif value < nodo.data: #True va a la IZQ\r\n",
        "      if nodo.left == None: #Si hay espacio en la IZQ, ahí va\r\n",
        "        nodo.left = NodoArbol( value , None , None ) #Insertamos nodo derecha\r\n",
        "      else:\r\n",
        "        self.__insert_nodo__( nodo.left , value ) #Buscar en su arbol IZQ\r\n",
        "    else:\r\n",
        "      if nodo.right == None:\r\n",
        "        nodo.right = NodoArbol( value , None , None )\r\n",
        "      else: \r\n",
        "        self.__insert_nodo__( nodo.right , value ) #Buscar en sub arbol derecho\r\n",
        "\r\n",
        "  def buscar( self , value ):\r\n",
        "    if self.__root == None:\r\n",
        "      return None\r\n",
        "    else:\r\n",
        "      #Haremos busqueda recursiva\r\n",
        "      return self.__busca_nodo( self.__root , value )\r\n",
        "\r\n",
        "  def __busca_nodo( self , nodo , value ):\r\n",
        "    if nodo == None:\r\n",
        "      return None\r\n",
        "    elif nodo.data == value:\r\n",
        "      return nodo.data\r\n",
        "    elif value < nodo.data:\r\n",
        "      return self.__busca_nodo( nodo.left , value )\r\n",
        "    else:\r\n",
        "      return self.__busca_nodo( nodo.right , value )\r\n",
        "  \r\n",
        "  def transversal( self , format = \"inOrden\"):\r\n",
        "    if format == \"inOrden\":\r\n",
        "      self.__recorrido_in( self.__root )\r\n",
        "    elif format == \"preOrden\":\r\n",
        "      self.__recorrido_pre( self.__root)\r\n",
        "    elif format == \"posOrden\":\r\n",
        "      self.__recorrido_pos( self.__root )\r\n",
        "    else:\r\n",
        "      print(\"Fomato de recorrido no válido\")\r\n",
        "    \r\n",
        "  def __recorrido_pre( self , nodo ):\r\n",
        "    if nodo != None:\r\n",
        "      print( nodo.data , end = \",\")\r\n",
        "      self.__recorrido_pre( nodo.left )\r\n",
        "      self.__recorrido_pre( nodo.right )\r\n",
        "  \r\n",
        "  def __recorrido_in( self , nodo ):\r\n",
        "    if nodo != None:\r\n",
        "      self.__recorrido_in( nodo.left )\r\n",
        "      print( nodo.data , end = \",\")\r\n",
        "      self.__recorrido_in( nodo.right )\r\n",
        "\r\n",
        "  def __recorrido_pos( self , nodo ):\r\n",
        "    if nodo != None:\r\n",
        "      self.__recorrido_pos( nodo.left )\r\n",
        "      self.__recorrido_pos( nodo.right )\r\n",
        "      print( nodo.data , end = \",\")"
      ],
      "execution_count": 45,
      "outputs": []
    },
    {
      "cell_type": "code",
      "metadata": {
        "colab": {
          "base_uri": "https://localhost:8080/"
        },
        "id": "OD7US6svVd7D",
        "outputId": "3e4513f9-29ae-485c-8538-4aaca9e5a995"
      },
      "source": [
        "bst = BinarySearchTree()\r\n",
        "bst.insert( 50 )\r\n",
        "bst.insert( 30 )\r\n",
        "bst.insert( 20 )\r\n",
        "res = bst.buscar( 30 ) #True o False\r\n",
        "print(\"Dato : \" , res)\r\n",
        "print( bst.buscar(40) )\r\n",
        "print(\"\\nRecorrido preOrden:\")\r\n",
        "bst.transversal(format = \"preOrden\")\r\n",
        "print(\"\\nRecorrido inOrden:\")\r\n",
        "bst.transversal(format = \"inOrden\")\r\n",
        "print(\"\\nRecorrido posOrden:\")\r\n",
        "bst.transversal(format = \"posOrden\")"
      ],
      "execution_count": 46,
      "outputs": [
        {
          "output_type": "stream",
          "text": [
            "Dato :  30\n",
            "None\n",
            "\n",
            "Recorrido preOrden:\n",
            "50,30,20,\n",
            "Recorrido inOrden:\n",
            "20,30,50,\n",
            "Recorrido posOrden:\n",
            "20,30,50,"
          ],
          "name": "stdout"
        }
      ]
    }
  ]
}
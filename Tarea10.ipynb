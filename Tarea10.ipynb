{
  "nbformat": 4,
  "nbformat_minor": 0,
  "metadata": {
    "colab": {
      "name": "Tarea10.ipynb",
      "provenance": [],
      "collapsed_sections": [],
      "authorship_tag": "ABX9TyO3Fy6GYOZWVtpjfdxyYNuI",
      "include_colab_link": true
    },
    "kernelspec": {
      "name": "python3",
      "display_name": "Python 3"
    }
  },
  "cells": [
    {
      "cell_type": "markdown",
      "metadata": {
        "id": "view-in-github",
        "colab_type": "text"
      },
      "source": [
        "<a href=\"https://colab.research.google.com/github/EduardoML7200/daa_2021_1/blob/master/Tarea10.ipynb\" target=\"_parent\"><img src=\"https://colab.research.google.com/assets/colab-badge.svg\" alt=\"Open In Colab\"/></a>"
      ]
    },
    {
      "cell_type": "code",
      "metadata": {
        "id": "1QwBmDT-fZg3"
      },
      "source": [
        "aux = 0\r\n",
        "X = 0\r\n",
        "class NodoArbol:\r\n",
        "  def __init__( self , value , left = None , right = None ):\r\n",
        "    self.data = value\r\n",
        "    self.left = left\r\n",
        "    self.right = right\r\n",
        "\r\n",
        "  def recorrido( self , contador = 0):\r\n",
        "    global aux\r\n",
        "    global X\r\n",
        "\r\n",
        "    #print( self.data , \"El nivel es: \", contador )\r\n",
        "    if self.left:\r\n",
        "      self.left.recorrido( contador  + 1)\r\n",
        "    if self.right:\r\n",
        "      self.right.recorrido( contador + 1)\r\n",
        "\r\n",
        "    if aux < contador:\r\n",
        "      aux = contador\r\n",
        "      X = self.data"
      ],
      "execution_count": 11,
      "outputs": []
    },
    {
      "cell_type": "code",
      "metadata": {
        "colab": {
          "base_uri": "https://localhost:8080/"
        },
        "id": "xK2gvBZrS_ym",
        "outputId": "a3f14451-3159-4826-c72d-2a50a1cd0862"
      },
      "source": [
        "arbol = NodoArbol( 8 , NodoArbol( 3 , NodoArbol( 1 ) , NodoArbol( 6 , NodoArbol( 4 ) , NodoArbol( 7 ))) , NodoArbol( 10 , None , NodoArbol( 14 , NodoArbol( 13 ))) )\r\n",
        "aux = 0\r\n",
        "arbol.recorrido()\r\n",
        "print(\"\\n\")\r\n",
        "print(\"El nodo hoja más abajo es: \", X , \"y su nivel es: \", aux)\r\n",
        "print(\"\\n\")"
      ],
      "execution_count": 12,
      "outputs": [
        {
          "output_type": "stream",
          "text": [
            "\n",
            "\n",
            "El nodo hoja más abajo es:  4 y su nivel es:  3\n",
            "\n",
            "\n"
          ],
          "name": "stdout"
        }
      ]
    },
    {
      "cell_type": "code",
      "metadata": {
        "colab": {
          "base_uri": "https://localhost:8080/"
        },
        "id": "cl7nJKwdTC5d",
        "outputId": "2048f615-0729-4275-af97-1b36d9fff8b5"
      },
      "source": [
        "arbol_2 = NodoArbol( 10 , NodoArbol( 7 , NodoArbol( 3 ) , NodoArbol( 8 , NodoArbol( 5 ) , NodoArbol( 9 , None , NodoArbol( 12 )))),NodoArbol( 11 ) )\r\n",
        "aux = 0\r\n",
        "arbol_2.recorrido()\r\n",
        "print(\"\\n\")\r\n",
        "print(\"El nodo hoja más abajo es: \", X , \"y su nivel es: \", aux)\r\n",
        "print(\"\\n\")"
      ],
      "execution_count": 13,
      "outputs": [
        {
          "output_type": "stream",
          "text": [
            "\n",
            "\n",
            "El nodo hoja más abajo es:  12 y su nivel es:  4\n",
            "\n",
            "\n"
          ],
          "name": "stdout"
        }
      ]
    },
    {
      "cell_type": "code",
      "metadata": {
        "colab": {
          "base_uri": "https://localhost:8080/"
        },
        "id": "KEH3IIPpTLee",
        "outputId": "1d7ca23f-569b-4eea-c597-3f316d5db37c"
      },
      "source": [
        "arbol_3 = NodoArbol( 2 , NodoArbol( 7 , NodoArbol( 2 ) , NodoArbol( 6 , NodoArbol( 5 ), NodoArbol( 11 ))) , NodoArbol( 5 , None , NodoArbol( 9 , NodoArbol( 4 ))))\r\n",
        "aux = 0\r\n",
        "arbol_3.recorrido()\r\n",
        "print(\"\\n\")\r\n",
        "print(\"El nodo hoja más abajo es: \", X , \"y su nivel es: \", aux)\r\n",
        "print(\"\\n\")"
      ],
      "execution_count": 14,
      "outputs": [
        {
          "output_type": "stream",
          "text": [
            "\n",
            "\n",
            "El nodo hoja más abajo es:  5 y su nivel es:  3\n",
            "\n",
            "\n"
          ],
          "name": "stdout"
        }
      ]
    },
    {
      "cell_type": "code",
      "metadata": {
        "colab": {
          "base_uri": "https://localhost:8080/"
        },
        "id": "5h9-1GmiUNIf",
        "outputId": "f1b0237b-a681-4526-fc42-ce6380c3af5b"
      },
      "source": [
        "arbol_4 = NodoArbol( 60 , NodoArbol( 41 , NodoArbol( 16 , NodoArbol( 25 )) , NodoArbol( 53 , NodoArbol( 46 , NodoArbol( 42 ) ) , NodoArbol( 55 )) ) , NodoArbol( 74 , NodoArbol( 65 , NodoArbol( 63 , NodoArbol( 62 ) , NodoArbol( 64 ) ), NodoArbol( 70 ))))\r\n",
        "aux = 0\r\n",
        "arbol_4.recorrido()\r\n",
        "print(\"\\n\")\r\n",
        "print(\"El nodo hoja más abajo es: \", X , \"y su nivel es: \", aux)\r\n",
        "print(\"\\n\")"
      ],
      "execution_count": 15,
      "outputs": [
        {
          "output_type": "stream",
          "text": [
            "\n",
            "\n",
            "El nodo hoja más abajo es:  42 y su nivel es:  4\n",
            "\n",
            "\n"
          ],
          "name": "stdout"
        }
      ]
    }
  ]
}
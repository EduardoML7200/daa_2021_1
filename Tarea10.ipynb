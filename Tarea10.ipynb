{
  "nbformat": 4,
  "nbformat_minor": 0,
  "metadata": {
    "colab": {
      "name": "Tarea10.ipynb",
      "provenance": [],
      "collapsed_sections": [],
      "authorship_tag": "ABX9TyOLjhXaUMZKRKvgs3is6roq",
      "include_colab_link": true
    },
    "kernelspec": {
      "name": "python3",
      "display_name": "Python 3"
    }
  },
  "cells": [
    {
      "cell_type": "markdown",
      "metadata": {
        "id": "view-in-github",
        "colab_type": "text"
      },
      "source": [
        "<a href=\"https://colab.research.google.com/github/EduardoML7200/daa_2021_1/blob/master/Tarea10.ipynb\" target=\"_parent\"><img src=\"https://colab.research.google.com/assets/colab-badge.svg\" alt=\"Open In Colab\"/></a>"
      ]
    },
    {
      "cell_type": "code",
      "metadata": {
        "id": "1QwBmDT-fZg3"
      },
      "source": [
        "class NodoArbol:\r\n",
        "  def __init__( self , value , left = None , right = None ):\r\n",
        "    self.data = value\r\n",
        "    self.left = left\r\n",
        "    self.right = right\r\n"
      ],
      "execution_count": 14,
      "outputs": []
    },
    {
      "cell_type": "code",
      "metadata": {
        "colab": {
          "base_uri": "https://localhost:8080/"
        },
        "id": "mHwt1cR9fmC9",
        "outputId": "c83743e6-4041-467e-b2dd-8146e068cd2d"
      },
      "source": [
        "arbol = NodoArbol( 4 , NodoArbol( 2 , NodoArbol( 1 ) , NodoArbol( 3 )) , NodoArbol( 8, None , NodoArbol(9)))\r\n",
        "contador = 0\r\n",
        "aux = arbol\r\n",
        "while True:\r\n",
        "  contador += 1\r\n",
        "  aux = aux.left\r\n",
        "  if aux == None:\r\n",
        "    aux = aux.right\r\n",
        "  if aux.left == None and aux.right == None:\r\n",
        "    print(aux.data, \"Su nivel es: \", contador)\r\n",
        "    break"
      ],
      "execution_count": 15,
      "outputs": [
        {
          "output_type": "stream",
          "text": [
            "1 Su nivel es:  2\n"
          ],
          "name": "stdout"
        }
      ]
    },
    {
      "cell_type": "code",
      "metadata": {
        "colab": {
          "base_uri": "https://localhost:8080/"
        },
        "id": "rqelnJXXoW-2",
        "outputId": "493a3080-5f57-45c9-b7f1-731b71c08221"
      },
      "source": [
        "arbol_2 = NodoArbol( 8 , NodoArbol( 3 , NodoArbol( 1 ,NodoArbol( 4 , NodoArbol(8), NodoArbol(7)))), NodoArbol( 10 , None , NodoArbol(14)))\r\n",
        "contador = 0\r\n",
        "aux = arbol_2\r\n",
        "while True:\r\n",
        "  contador += 1\r\n",
        "  aux = aux.left\r\n",
        "  if aux == None:\r\n",
        "    aux = aux.right\r\n",
        "  if aux.left == None and aux.right == None:\r\n",
        "    print(aux.data, \"Su nivel es: \", contador)\r\n",
        "    break"
      ],
      "execution_count": 18,
      "outputs": [
        {
          "output_type": "stream",
          "text": [
            "8 Su nivel es:  4\n"
          ],
          "name": "stdout"
        }
      ]
    },
    {
      "cell_type": "code",
      "metadata": {
        "colab": {
          "base_uri": "https://localhost:8080/"
        },
        "id": "-_5TqPaBqXxP",
        "outputId": "49f4f81e-90d4-4187-a391-803da03b4edf"
      },
      "source": [
        "arbol_3 = NodoArbol( 8 , NodoArbol( 7 , NodoArbol( 3, NodoArbol(14) ) , NodoArbol( 3 )) , NodoArbol( 24, NodoArbol(30) , NodoArbol(13)))\r\n",
        "contador = 0\r\n",
        "aux = arbol_3\r\n",
        "while True:\r\n",
        "  contador += 1\r\n",
        "  aux = aux.left\r\n",
        "  if aux == None:\r\n",
        "    aux = aux.right\r\n",
        "  if aux.left == None and aux.right == None:\r\n",
        "    print(aux.data, \"Su nivel es: \", contador)\r\n",
        "    break"
      ],
      "execution_count": 19,
      "outputs": [
        {
          "output_type": "stream",
          "text": [
            "14 Su nivel es:  3\n"
          ],
          "name": "stdout"
        }
      ]
    },
    {
      "cell_type": "code",
      "metadata": {
        "colab": {
          "base_uri": "https://localhost:8080/"
        },
        "id": "stwq2NTTq2lt",
        "outputId": "0af0df06-5b1f-47b2-89f5-e75a921ecdbd"
      },
      "source": [
        "arbol_4 = NodoArbol( 13 , NodoArbol( 17 , NodoArbol( 1, NodoArbol(11, NodoArbol(2), NodoArbol(17)) ) , NodoArbol( 23 )) , NodoArbol( 25, NodoArbol(33) , NodoArbol(16)))\r\n",
        "contador = 0\r\n",
        "aux = arbol_4\r\n",
        "while True:\r\n",
        "  contador += 1\r\n",
        "  aux = aux.left\r\n",
        "  if aux == None:\r\n",
        "    aux = aux.right\r\n",
        "  if aux.left == None and aux.right == None:\r\n",
        "    print(aux.data, \"Su nivel es: \", contador)\r\n",
        "    break"
      ],
      "execution_count": 21,
      "outputs": [
        {
          "output_type": "stream",
          "text": [
            "2 Su nivel es:  4\n"
          ],
          "name": "stdout"
        }
      ]
    }
  ]
}